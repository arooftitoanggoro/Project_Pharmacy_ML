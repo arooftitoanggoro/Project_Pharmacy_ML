{
  "nbformat": 4,
  "nbformat_minor": 0,
  "metadata": {
    "colab": {
      "provenance": []
    },
    "kernelspec": {
      "name": "python3",
      "display_name": "Python 3"
    },
    "language_info": {
      "name": "python"
    }
  },
  "cells": [
    {
      "cell_type": "markdown",
      "source": [
        "**1. Importing Data to Python**"
      ],
      "metadata": {
        "id": "W0r-gXl5dJ61"
      }
    },
    {
      "cell_type": "code",
      "source": [
        "# Import library for data structuring\n",
        "import pandas as pd\n",
        "\n",
        "# Import library for number calculation\n",
        "import numpy as np"
      ],
      "metadata": {
        "id": "7BqV2M1HdfCf"
      },
      "execution_count": 1,
      "outputs": []
    },
    {
      "cell_type": "code",
      "execution_count": 2,
      "metadata": {
        "id": "oqvnVch7ajlB"
      },
      "outputs": [],
      "source": [
        "def importData(filename):\n",
        "    \"\"\"\n",
        "    Function to import data and remove duplicates \n",
        "    :param filename: <string> input file name (.csv format) \n",
        "    :return df: <pandas dataframe> sample data\n",
        "    \"\"\"\n",
        "\n",
        "    # read data\n",
        "    df = pd.read_csv(filename, index_col =0)\n",
        "    print(\"Original Data   : \", df.shape, \"- (#observartion, #column)\")\n",
        "\n",
        "    # drop duplicates\n",
        "    df = df.drop_duplicates()\n",
        "    print(\"Data after-drop : \", df.shape, \"- (#observartion, #column)\")\n",
        "\n",
        "    return df"
      ]
    },
    {
      "cell_type": "code",
      "source": [
        "# input\n",
        "file = \"Sample - Pharmacy.csv\"\n",
        "\n",
        "# panggil fungsi\n",
        "pharmacy_df = importData(filename = file)"
      ],
      "metadata": {
        "colab": {
          "base_uri": "https://localhost:8080/"
        },
        "id": "0Kd3iXL6dU1l",
        "outputId": "877a74c9-665f-4a1e-ada7-b1feffc87e8e"
      },
      "execution_count": 3,
      "outputs": [
        {
          "output_type": "stream",
          "name": "stdout",
          "text": [
            "Original Data   :  (9994, 19) - (#observartion, #column)\n",
            "Data after-drop :  (9993, 19) - (#observartion, #column)\n"
          ]
        }
      ]
    },
    {
      "cell_type": "code",
      "source": [
        "pharmacy_df.head()"
      ],
      "metadata": {
        "colab": {
          "base_uri": "https://localhost:8080/",
          "height": 403
        },
        "id": "Rtfni4amyGHC",
        "outputId": "6f2073f5-e14c-4845-e209-5ae6dabfc6d5"
      },
      "execution_count": 4,
      "outputs": [
        {
          "output_type": "execute_result",
          "data": {
            "text/plain": [
              "              Order ID  Order Date   Ship Date       Ship Mode Customer ID  \\\n",
              "Row ID                                                                       \n",
              "1       CA-2016-152156   11/8/2016  11/11/2016    Second Class    CG-12520   \n",
              "2       CA-2016-152156   11/8/2016  11/11/2016    Second Class    CG-12520   \n",
              "3       CA-2016-138688   6/12/2016   6/16/2016    Second Class    DV-13045   \n",
              "4       US-2015-108966  10/11/2015  10/18/2015  Standard Class    SO-20335   \n",
              "5       US-2015-108966  10/11/2015  10/18/2015  Standard Class    SO-20335   \n",
              "\n",
              "       Customer Name   Segment    Country            City       State  \\\n",
              "Row ID                                                                  \n",
              "1         Pharmacy-1  Pharmacy  Indonesia   Nusa Barat-14  Nusa Barat   \n",
              "2         Pharmacy-1  Pharmacy  Indonesia   Nusa Barat-14  Nusa Barat   \n",
              "3         Hospital-1  Hospital  Indonesia  Jawa Barat-144  Jawa Barat   \n",
              "4         Pharmacy-2  Pharmacy  Indonesia       Banten-38      Banten   \n",
              "5         Pharmacy-2  Pharmacy  Indonesia       Banten-38      Banten   \n",
              "\n",
              "           Region   Product ID Category Sub-Category        Product Name  \\\n",
              "Row ID                                                                     \n",
              "1       Bali Nusa  BO-10001798    Respi      Respi/A  Respi/ABO-10001798   \n",
              "2       Bali Nusa  CH-10000454    Respi      Respi/B  Respi/BCH-10000454   \n",
              "3            Jawa  LA-10000240    Hyper      Hyper/F  Hyper/FLA-10000240   \n",
              "4            Jawa  TA-10000577    Respi      Respi/D  Respi/DTA-10000577   \n",
              "5            Jawa  ST-10000760    Hyper      Hyper/H  Hyper/HST-10000760   \n",
              "\n",
              "           Sales  Quantity  Discount    Profit  \n",
              "Row ID                                          \n",
              "1       261.9600         2      0.00   41.9136  \n",
              "2       731.9400         3      0.00  219.5820  \n",
              "3        14.6200         2      0.00    6.8714  \n",
              "4       957.5775         5      0.45 -383.0310  \n",
              "5        22.3680         2      0.20    2.5164  "
            ],
            "text/html": [
              "\n",
              "  <div id=\"df-7b35d2fb-d103-4101-aabd-fe80dc463d55\">\n",
              "    <div class=\"colab-df-container\">\n",
              "      <div>\n",
              "<style scoped>\n",
              "    .dataframe tbody tr th:only-of-type {\n",
              "        vertical-align: middle;\n",
              "    }\n",
              "\n",
              "    .dataframe tbody tr th {\n",
              "        vertical-align: top;\n",
              "    }\n",
              "\n",
              "    .dataframe thead th {\n",
              "        text-align: right;\n",
              "    }\n",
              "</style>\n",
              "<table border=\"1\" class=\"dataframe\">\n",
              "  <thead>\n",
              "    <tr style=\"text-align: right;\">\n",
              "      <th></th>\n",
              "      <th>Order ID</th>\n",
              "      <th>Order Date</th>\n",
              "      <th>Ship Date</th>\n",
              "      <th>Ship Mode</th>\n",
              "      <th>Customer ID</th>\n",
              "      <th>Customer Name</th>\n",
              "      <th>Segment</th>\n",
              "      <th>Country</th>\n",
              "      <th>City</th>\n",
              "      <th>State</th>\n",
              "      <th>Region</th>\n",
              "      <th>Product ID</th>\n",
              "      <th>Category</th>\n",
              "      <th>Sub-Category</th>\n",
              "      <th>Product Name</th>\n",
              "      <th>Sales</th>\n",
              "      <th>Quantity</th>\n",
              "      <th>Discount</th>\n",
              "      <th>Profit</th>\n",
              "    </tr>\n",
              "    <tr>\n",
              "      <th>Row ID</th>\n",
              "      <th></th>\n",
              "      <th></th>\n",
              "      <th></th>\n",
              "      <th></th>\n",
              "      <th></th>\n",
              "      <th></th>\n",
              "      <th></th>\n",
              "      <th></th>\n",
              "      <th></th>\n",
              "      <th></th>\n",
              "      <th></th>\n",
              "      <th></th>\n",
              "      <th></th>\n",
              "      <th></th>\n",
              "      <th></th>\n",
              "      <th></th>\n",
              "      <th></th>\n",
              "      <th></th>\n",
              "      <th></th>\n",
              "    </tr>\n",
              "  </thead>\n",
              "  <tbody>\n",
              "    <tr>\n",
              "      <th>1</th>\n",
              "      <td>CA-2016-152156</td>\n",
              "      <td>11/8/2016</td>\n",
              "      <td>11/11/2016</td>\n",
              "      <td>Second Class</td>\n",
              "      <td>CG-12520</td>\n",
              "      <td>Pharmacy-1</td>\n",
              "      <td>Pharmacy</td>\n",
              "      <td>Indonesia</td>\n",
              "      <td>Nusa Barat-14</td>\n",
              "      <td>Nusa Barat</td>\n",
              "      <td>Bali Nusa</td>\n",
              "      <td>BO-10001798</td>\n",
              "      <td>Respi</td>\n",
              "      <td>Respi/A</td>\n",
              "      <td>Respi/ABO-10001798</td>\n",
              "      <td>261.9600</td>\n",
              "      <td>2</td>\n",
              "      <td>0.00</td>\n",
              "      <td>41.9136</td>\n",
              "    </tr>\n",
              "    <tr>\n",
              "      <th>2</th>\n",
              "      <td>CA-2016-152156</td>\n",
              "      <td>11/8/2016</td>\n",
              "      <td>11/11/2016</td>\n",
              "      <td>Second Class</td>\n",
              "      <td>CG-12520</td>\n",
              "      <td>Pharmacy-1</td>\n",
              "      <td>Pharmacy</td>\n",
              "      <td>Indonesia</td>\n",
              "      <td>Nusa Barat-14</td>\n",
              "      <td>Nusa Barat</td>\n",
              "      <td>Bali Nusa</td>\n",
              "      <td>CH-10000454</td>\n",
              "      <td>Respi</td>\n",
              "      <td>Respi/B</td>\n",
              "      <td>Respi/BCH-10000454</td>\n",
              "      <td>731.9400</td>\n",
              "      <td>3</td>\n",
              "      <td>0.00</td>\n",
              "      <td>219.5820</td>\n",
              "    </tr>\n",
              "    <tr>\n",
              "      <th>3</th>\n",
              "      <td>CA-2016-138688</td>\n",
              "      <td>6/12/2016</td>\n",
              "      <td>6/16/2016</td>\n",
              "      <td>Second Class</td>\n",
              "      <td>DV-13045</td>\n",
              "      <td>Hospital-1</td>\n",
              "      <td>Hospital</td>\n",
              "      <td>Indonesia</td>\n",
              "      <td>Jawa Barat-144</td>\n",
              "      <td>Jawa Barat</td>\n",
              "      <td>Jawa</td>\n",
              "      <td>LA-10000240</td>\n",
              "      <td>Hyper</td>\n",
              "      <td>Hyper/F</td>\n",
              "      <td>Hyper/FLA-10000240</td>\n",
              "      <td>14.6200</td>\n",
              "      <td>2</td>\n",
              "      <td>0.00</td>\n",
              "      <td>6.8714</td>\n",
              "    </tr>\n",
              "    <tr>\n",
              "      <th>4</th>\n",
              "      <td>US-2015-108966</td>\n",
              "      <td>10/11/2015</td>\n",
              "      <td>10/18/2015</td>\n",
              "      <td>Standard Class</td>\n",
              "      <td>SO-20335</td>\n",
              "      <td>Pharmacy-2</td>\n",
              "      <td>Pharmacy</td>\n",
              "      <td>Indonesia</td>\n",
              "      <td>Banten-38</td>\n",
              "      <td>Banten</td>\n",
              "      <td>Jawa</td>\n",
              "      <td>TA-10000577</td>\n",
              "      <td>Respi</td>\n",
              "      <td>Respi/D</td>\n",
              "      <td>Respi/DTA-10000577</td>\n",
              "      <td>957.5775</td>\n",
              "      <td>5</td>\n",
              "      <td>0.45</td>\n",
              "      <td>-383.0310</td>\n",
              "    </tr>\n",
              "    <tr>\n",
              "      <th>5</th>\n",
              "      <td>US-2015-108966</td>\n",
              "      <td>10/11/2015</td>\n",
              "      <td>10/18/2015</td>\n",
              "      <td>Standard Class</td>\n",
              "      <td>SO-20335</td>\n",
              "      <td>Pharmacy-2</td>\n",
              "      <td>Pharmacy</td>\n",
              "      <td>Indonesia</td>\n",
              "      <td>Banten-38</td>\n",
              "      <td>Banten</td>\n",
              "      <td>Jawa</td>\n",
              "      <td>ST-10000760</td>\n",
              "      <td>Hyper</td>\n",
              "      <td>Hyper/H</td>\n",
              "      <td>Hyper/HST-10000760</td>\n",
              "      <td>22.3680</td>\n",
              "      <td>2</td>\n",
              "      <td>0.20</td>\n",
              "      <td>2.5164</td>\n",
              "    </tr>\n",
              "  </tbody>\n",
              "</table>\n",
              "</div>\n",
              "      <button class=\"colab-df-convert\" onclick=\"convertToInteractive('df-7b35d2fb-d103-4101-aabd-fe80dc463d55')\"\n",
              "              title=\"Convert this dataframe to an interactive table.\"\n",
              "              style=\"display:none;\">\n",
              "        \n",
              "  <svg xmlns=\"http://www.w3.org/2000/svg\" height=\"24px\"viewBox=\"0 0 24 24\"\n",
              "       width=\"24px\">\n",
              "    <path d=\"M0 0h24v24H0V0z\" fill=\"none\"/>\n",
              "    <path d=\"M18.56 5.44l.94 2.06.94-2.06 2.06-.94-2.06-.94-.94-2.06-.94 2.06-2.06.94zm-11 1L8.5 8.5l.94-2.06 2.06-.94-2.06-.94L8.5 2.5l-.94 2.06-2.06.94zm10 10l.94 2.06.94-2.06 2.06-.94-2.06-.94-.94-2.06-.94 2.06-2.06.94z\"/><path d=\"M17.41 7.96l-1.37-1.37c-.4-.4-.92-.59-1.43-.59-.52 0-1.04.2-1.43.59L10.3 9.45l-7.72 7.72c-.78.78-.78 2.05 0 2.83L4 21.41c.39.39.9.59 1.41.59.51 0 1.02-.2 1.41-.59l7.78-7.78 2.81-2.81c.8-.78.8-2.07 0-2.86zM5.41 20L4 18.59l7.72-7.72 1.47 1.35L5.41 20z\"/>\n",
              "  </svg>\n",
              "      </button>\n",
              "      \n",
              "  <style>\n",
              "    .colab-df-container {\n",
              "      display:flex;\n",
              "      flex-wrap:wrap;\n",
              "      gap: 12px;\n",
              "    }\n",
              "\n",
              "    .colab-df-convert {\n",
              "      background-color: #E8F0FE;\n",
              "      border: none;\n",
              "      border-radius: 50%;\n",
              "      cursor: pointer;\n",
              "      display: none;\n",
              "      fill: #1967D2;\n",
              "      height: 32px;\n",
              "      padding: 0 0 0 0;\n",
              "      width: 32px;\n",
              "    }\n",
              "\n",
              "    .colab-df-convert:hover {\n",
              "      background-color: #E2EBFA;\n",
              "      box-shadow: 0px 1px 2px rgba(60, 64, 67, 0.3), 0px 1px 3px 1px rgba(60, 64, 67, 0.15);\n",
              "      fill: #174EA6;\n",
              "    }\n",
              "\n",
              "    [theme=dark] .colab-df-convert {\n",
              "      background-color: #3B4455;\n",
              "      fill: #D2E3FC;\n",
              "    }\n",
              "\n",
              "    [theme=dark] .colab-df-convert:hover {\n",
              "      background-color: #434B5C;\n",
              "      box-shadow: 0px 1px 3px 1px rgba(0, 0, 0, 0.15);\n",
              "      filter: drop-shadow(0px 1px 2px rgba(0, 0, 0, 0.3));\n",
              "      fill: #FFFFFF;\n",
              "    }\n",
              "  </style>\n",
              "\n",
              "      <script>\n",
              "        const buttonEl =\n",
              "          document.querySelector('#df-7b35d2fb-d103-4101-aabd-fe80dc463d55 button.colab-df-convert');\n",
              "        buttonEl.style.display =\n",
              "          google.colab.kernel.accessAllowed ? 'block' : 'none';\n",
              "\n",
              "        async function convertToInteractive(key) {\n",
              "          const element = document.querySelector('#df-7b35d2fb-d103-4101-aabd-fe80dc463d55');\n",
              "          const dataTable =\n",
              "            await google.colab.kernel.invokeFunction('convertToInteractive',\n",
              "                                                     [key], {});\n",
              "          if (!dataTable) return;\n",
              "\n",
              "          const docLinkHtml = 'Like what you see? Visit the ' +\n",
              "            '<a target=\"_blank\" href=https://colab.research.google.com/notebooks/data_table.ipynb>data table notebook</a>'\n",
              "            + ' to learn more about interactive tables.';\n",
              "          element.innerHTML = '';\n",
              "          dataTable['output_type'] = 'display_data';\n",
              "          await google.colab.output.renderOutput(dataTable, element);\n",
              "          const docLink = document.createElement('div');\n",
              "          docLink.innerHTML = docLinkHtml;\n",
              "          element.appendChild(docLink);\n",
              "        }\n",
              "      </script>\n",
              "    </div>\n",
              "  </div>\n",
              "  "
            ]
          },
          "metadata": {},
          "execution_count": 4
        }
      ]
    },
    {
      "cell_type": "markdown",
      "source": [
        "**2. Data Exploratory**"
      ],
      "metadata": {
        "id": "3BCiRreZfliz"
      }
    },
    {
      "cell_type": "code",
      "source": [
        "# Import library for data visualisation\n",
        "import seaborn as sns \n",
        "import matplotlib.pyplot as plt"
      ],
      "metadata": {
        "id": "oRcA8TUCgD62"
      },
      "execution_count": 5,
      "outputs": []
    },
    {
      "cell_type": "code",
      "source": [
        "pharmacy_df.info()"
      ],
      "metadata": {
        "colab": {
          "base_uri": "https://localhost:8080/"
        },
        "id": "jQNYhziifAKD",
        "outputId": "ac081677-7501-4be8-8473-cd6d6016484d"
      },
      "execution_count": 6,
      "outputs": [
        {
          "output_type": "stream",
          "name": "stdout",
          "text": [
            "<class 'pandas.core.frame.DataFrame'>\n",
            "Int64Index: 9993 entries, 1 to 9994\n",
            "Data columns (total 19 columns):\n",
            " #   Column         Non-Null Count  Dtype  \n",
            "---  ------         --------------  -----  \n",
            " 0   Order ID       9993 non-null   object \n",
            " 1   Order Date     9993 non-null   object \n",
            " 2   Ship Date      9993 non-null   object \n",
            " 3   Ship Mode      9993 non-null   object \n",
            " 4   Customer ID    9993 non-null   object \n",
            " 5   Customer Name  9993 non-null   object \n",
            " 6   Segment        9993 non-null   object \n",
            " 7   Country        9993 non-null   object \n",
            " 8   City           9993 non-null   object \n",
            " 9   State          9993 non-null   object \n",
            " 10  Region         9993 non-null   object \n",
            " 11  Product ID     9993 non-null   object \n",
            " 12  Category       9993 non-null   object \n",
            " 13  Sub-Category   9993 non-null   object \n",
            " 14  Product Name   9993 non-null   object \n",
            " 15  Sales          9993 non-null   float64\n",
            " 16  Quantity       9993 non-null   int64  \n",
            " 17  Discount       9993 non-null   float64\n",
            " 18  Profit         9993 non-null   float64\n",
            "dtypes: float64(3), int64(1), object(15)\n",
            "memory usage: 1.5+ MB\n"
          ]
        }
      ]
    },
    {
      "cell_type": "code",
      "source": [
        "sns.heatmap(pharmacy_df.corr(), annot =True)"
      ],
      "metadata": {
        "colab": {
          "base_uri": "https://localhost:8080/",
          "height": 286
        },
        "id": "y1BxuHJYfy6I",
        "outputId": "4f9a17a4-10fb-483d-ce90-b60edaf3dee8"
      },
      "execution_count": 7,
      "outputs": [
        {
          "output_type": "execute_result",
          "data": {
            "text/plain": [
              "<matplotlib.axes._subplots.AxesSubplot at 0x7f87907bc5e0>"
            ]
          },
          "metadata": {},
          "execution_count": 7
        },
        {
          "output_type": "display_data",
          "data": {
            "text/plain": [
              "<Figure size 432x288 with 2 Axes>"
            ],
            "image/png": "[encoded data removed]"
          },
          "metadata": {
            "needs_background": "light"
          }
        }
      ]
    },
    {
      "cell_type": "code",
      "source": [
        "sns.pairplot(pharmacy_df)"
      ],
      "metadata": {
        "colab": {
          "base_uri": "https://localhost:8080/",
          "height": 743
        },
        "id": "I51aEDlogPjo",
        "outputId": "4666b4eb-50ab-4202-fa40-b3f3c53cb0bf"
      },
      "execution_count": 8,
      "outputs": [
        {
          "output_type": "execute_result",
          "data": {
            "text/plain": [
              "<seaborn.axisgrid.PairGrid at 0x7f878de6ff10>"
            ]
          },
          "metadata": {},
          "execution_count": 8
        },
        {
          "output_type": "display_data",
          "data": {
            "text/plain": [
              "<Figure size 720x720 with 20 Axes>"
            ],
            "image/png": "[encoded data removed]"
          },
          "metadata": {
            "needs_background": "light"
          }
        }
      ]
    },
    {
      "cell_type": "markdown",
      "source": [
        "Insight from Numerical Data:\n",
        "- Profit is our target column for this case\n",
        "- Profit has high correlation with sales data\n",
        "- Second highest correlation with discount data\n",
        "- And very small correlation with quantity"
      ],
      "metadata": {
        "id": "6lJ000OcrZle"
      }
    },
    {
      "cell_type": "code",
      "source": [
        "print(\"Mean Profit:\", round(pharmacy_df['Profit'].mean()))\n",
        "\n",
        "print(\"Median Profit:\", round(pharmacy_df['Profit'].median()))\n",
        "\n",
        "print(\"Highest Profit:\", round(pharmacy_df['Profit'].max()))\n",
        "\n",
        "print(\"Lowest Profit:\", round(pharmacy_df['Profit'].min()))"
      ],
      "metadata": {
        "colab": {
          "base_uri": "https://localhost:8080/"
        },
        "id": "-vXy8sLlglSl",
        "outputId": "f7472bd4-67f0-4a35-f2c8-b929fd2e43a1"
      },
      "execution_count": 9,
      "outputs": [
        {
          "output_type": "stream",
          "name": "stdout",
          "text": [
            "Mean Profit: 29\n",
            "Median Profit: 9\n",
            "Highest Profit: 8400\n",
            "Lowest Profit: -6600\n"
          ]
        }
      ]
    },
    {
      "cell_type": "code",
      "source": [
        "plt.figure(1)\n",
        "plt.figure(figsize = (20, 8))\n",
        "plt.subplots_adjust(left=0.1,bottom=0.1,right=0.9,top=0.9,wspace=0.2,hspace=0.4)\n",
        "# Column (Ship Mode vs Profit)\n",
        "plt.subplot(221)\n",
        "sns.barplot(x = pharmacy_df['Ship Mode'], y = pharmacy_df['Profit'], palette = \"nipy_spectral\")\n",
        "plt.title('Ship Mode vs Profit')\n",
        "# Column (Segment vs Profit)\n",
        "plt.subplot(222)\n",
        "sns.barplot(x = pharmacy_df['Segment'], y = pharmacy_df['Profit'], palette = \"nipy_spectral\")\n",
        "plt.title('Segment vs Profit')\n",
        "# Column (Region vs Profit)\n",
        "plt.subplot(223)\n",
        "sns.barplot(x = pharmacy_df['Region'], y = pharmacy_df['Profit'], palette = \"nipy_spectral\")\n",
        "plt.title('Region vs Profit')\n",
        "# Column (Category vs Profit)\n",
        "plt.subplot(224)\n",
        "sns.barplot(x = pharmacy_df['Category'], y = pharmacy_df['Profit'], palette = \"nipy_spectral\")\n",
        "plt.title('Category vs Profit')"
      ],
      "metadata": {
        "colab": {
          "base_uri": "https://localhost:8080/",
          "height": 574
        },
        "id": "JSECmhL0iOQr",
        "outputId": "3d3b5a79-bef6-4e1e-906d-02ee52fc4e79"
      },
      "execution_count": 10,
      "outputs": [
        {
          "output_type": "execute_result",
          "data": {
            "text/plain": [
              "Text(0.5, 1.0, 'Category vs Profit')"
            ]
          },
          "metadata": {},
          "execution_count": 10
        },
        {
          "output_type": "display_data",
          "data": {
            "text/plain": [
              "<Figure size 432x288 with 0 Axes>"
            ]
          },
          "metadata": {}
        },
        {
          "output_type": "display_data",
          "data": {
            "text/plain": [
              "<Figure size 1440x576 with 4 Axes>"
            ],
            "image/png": "[encoded data removed]"
          },
          "metadata": {
            "needs_background": "light"
          }
        }
      ]
    },
    {
      "cell_type": "markdown",
      "source": [
        "Insight from Sample Categorical Data:\n",
        "- First Class shipping mode has marginly high profit than other shipping modes.\n",
        "- Customers of Retail types generate more profit.\n",
        "- Profit is more in Bali Nusa region.\n",
        "- Diabet product category has high profit."
      ],
      "metadata": {
        "id": "U8mQZ9WQtWwa"
      }
    },
    {
      "cell_type": "markdown",
      "source": [
        "**3. Data Preprocessing**"
      ],
      "metadata": {
        "id": "fM37zd8Sv89q"
      }
    },
    {
      "cell_type": "markdown",
      "source": [
        "a. Input-Output Split"
      ],
      "metadata": {
        "id": "zvKle5QRwMac"
      }
    },
    {
      "cell_type": "code",
      "source": [
        "def extractInputOutput(data,\n",
        "                       output_column_name):\n",
        "    \"\"\"\n",
        "    Function to separate input and output data\n",
        "     :param data: <pandas dataframe> data of all samples\n",
        "     :param output_column_name: <string> output column name\n",
        "     :return input_data: <pandas dataframe> input data\n",
        "     :return output_data: <pandas series> output data\n",
        "    \"\"\"\n",
        "    output_data = data[output_column_name]\n",
        "    input_data = data.drop(output_column_name,\n",
        "                           axis = 1)\n",
        "    \n",
        "    return input_data, output_data"
      ],
      "metadata": {
        "id": "nA5Qxfy-isqk"
      },
      "execution_count": 11,
      "outputs": []
    },
    {
      "cell_type": "code",
      "source": [
        "X, y = extractInputOutput(data = pharmacy_df,\n",
        "                          output_column_name = \"Profit\")"
      ],
      "metadata": {
        "id": "2Tq6VTI_w3JS"
      },
      "execution_count": 12,
      "outputs": []
    },
    {
      "cell_type": "code",
      "source": [
        "X.head(2)"
      ],
      "metadata": {
        "colab": {
          "base_uri": "https://localhost:8080/",
          "height": 257
        },
        "id": "RbXIDL7rxCDn",
        "outputId": "5d01f637-096d-47f6-b553-5a0709075630"
      },
      "execution_count": 13,
      "outputs": [
        {
          "output_type": "execute_result",
          "data": {
            "text/plain": [
              "              Order ID Order Date   Ship Date     Ship Mode Customer ID  \\\n",
              "Row ID                                                                    \n",
              "1       CA-2016-152156  11/8/2016  11/11/2016  Second Class    CG-12520   \n",
              "2       CA-2016-152156  11/8/2016  11/11/2016  Second Class    CG-12520   \n",
              "\n",
              "       Customer Name   Segment    Country           City       State  \\\n",
              "Row ID                                                                 \n",
              "1         Pharmacy-1  Pharmacy  Indonesia  Nusa Barat-14  Nusa Barat   \n",
              "2         Pharmacy-1  Pharmacy  Indonesia  Nusa Barat-14  Nusa Barat   \n",
              "\n",
              "           Region   Product ID Category Sub-Category        Product Name  \\\n",
              "Row ID                                                                     \n",
              "1       Bali Nusa  BO-10001798    Respi      Respi/A  Respi/ABO-10001798   \n",
              "2       Bali Nusa  CH-10000454    Respi      Respi/B  Respi/BCH-10000454   \n",
              "\n",
              "         Sales  Quantity  Discount  \n",
              "Row ID                              \n",
              "1       261.96         2       0.0  \n",
              "2       731.94         3       0.0  "
            ],
            "text/html": [
              "\n",
              "  <div id=\"df-b5cdf84d-88ee-4464-9597-2a6cbfa9851e\">\n",
              "    <div class=\"colab-df-container\">\n",
              "      <div>\n",
              "<style scoped>\n",
              "    .dataframe tbody tr th:only-of-type {\n",
              "        vertical-align: middle;\n",
              "    }\n",
              "\n",
              "    .dataframe tbody tr th {\n",
              "        vertical-align: top;\n",
              "    }\n",
              "\n",
              "    .dataframe thead th {\n",
              "        text-align: right;\n",
              "    }\n",
              "</style>\n",
              "<table border=\"1\" class=\"dataframe\">\n",
              "  <thead>\n",
              "    <tr style=\"text-align: right;\">\n",
              "      <th></th>\n",
              "      <th>Order ID</th>\n",
              "      <th>Order Date</th>\n",
              "      <th>Ship Date</th>\n",
              "      <th>Ship Mode</th>\n",
              "      <th>Customer ID</th>\n",
              "      <th>Customer Name</th>\n",
              "      <th>Segment</th>\n",
              "      <th>Country</th>\n",
              "      <th>City</th>\n",
              "      <th>State</th>\n",
              "      <th>Region</th>\n",
              "      <th>Product ID</th>\n",
              "      <th>Category</th>\n",
              "      <th>Sub-Category</th>\n",
              "      <th>Product Name</th>\n",
              "      <th>Sales</th>\n",
              "      <th>Quantity</th>\n",
              "      <th>Discount</th>\n",
              "    </tr>\n",
              "    <tr>\n",
              "      <th>Row ID</th>\n",
              "      <th></th>\n",
              "      <th></th>\n",
              "      <th></th>\n",
              "      <th></th>\n",
              "      <th></th>\n",
              "      <th></th>\n",
              "      <th></th>\n",
              "      <th></th>\n",
              "      <th></th>\n",
              "      <th></th>\n",
              "      <th></th>\n",
              "      <th></th>\n",
              "      <th></th>\n",
              "      <th></th>\n",
              "      <th></th>\n",
              "      <th></th>\n",
              "      <th></th>\n",
              "      <th></th>\n",
              "    </tr>\n",
              "  </thead>\n",
              "  <tbody>\n",
              "    <tr>\n",
              "      <th>1</th>\n",
              "      <td>CA-2016-152156</td>\n",
              "      <td>11/8/2016</td>\n",
              "      <td>11/11/2016</td>\n",
              "      <td>Second Class</td>\n",
              "      <td>CG-12520</td>\n",
              "      <td>Pharmacy-1</td>\n",
              "      <td>Pharmacy</td>\n",
              "      <td>Indonesia</td>\n",
              "      <td>Nusa Barat-14</td>\n",
              "      <td>Nusa Barat</td>\n",
              "      <td>Bali Nusa</td>\n",
              "      <td>BO-10001798</td>\n",
              "      <td>Respi</td>\n",
              "      <td>Respi/A</td>\n",
              "      <td>Respi/ABO-10001798</td>\n",
              "      <td>261.96</td>\n",
              "      <td>2</td>\n",
              "      <td>0.0</td>\n",
              "    </tr>\n",
              "    <tr>\n",
              "      <th>2</th>\n",
              "      <td>CA-2016-152156</td>\n",
              "      <td>11/8/2016</td>\n",
              "      <td>11/11/2016</td>\n",
              "      <td>Second Class</td>\n",
              "      <td>CG-12520</td>\n",
              "      <td>Pharmacy-1</td>\n",
              "      <td>Pharmacy</td>\n",
              "      <td>Indonesia</td>\n",
              "      <td>Nusa Barat-14</td>\n",
              "      <td>Nusa Barat</td>\n",
              "      <td>Bali Nusa</td>\n",
              "      <td>CH-10000454</td>\n",
              "      <td>Respi</td>\n",
              "      <td>Respi/B</td>\n",
              "      <td>Respi/BCH-10000454</td>\n",
              "      <td>731.94</td>\n",
              "      <td>3</td>\n",
              "      <td>0.0</td>\n",
              "    </tr>\n",
              "  </tbody>\n",
              "</table>\n",
              "</div>\n",
              "      <button class=\"colab-df-convert\" onclick=\"convertToInteractive('df-b5cdf84d-88ee-4464-9597-2a6cbfa9851e')\"\n",
              "              title=\"Convert this dataframe to an interactive table.\"\n",
              "              style=\"display:none;\">\n",
              "        \n",
              "  <svg xmlns=\"http://www.w3.org/2000/svg\" height=\"24px\"viewBox=\"0 0 24 24\"\n",
              "       width=\"24px\">\n",
              "    <path d=\"M0 0h24v24H0V0z\" fill=\"none\"/>\n",
              "    <path d=\"M18.56 5.44l.94 2.06.94-2.06 2.06-.94-2.06-.94-.94-2.06-.94 2.06-2.06.94zm-11 1L8.5 8.5l.94-2.06 2.06-.94-2.06-.94L8.5 2.5l-.94 2.06-2.06.94zm10 10l.94 2.06.94-2.06 2.06-.94-2.06-.94-.94-2.06-.94 2.06-2.06.94z\"/><path d=\"M17.41 7.96l-1.37-1.37c-.4-.4-.92-.59-1.43-.59-.52 0-1.04.2-1.43.59L10.3 9.45l-7.72 7.72c-.78.78-.78 2.05 0 2.83L4 21.41c.39.39.9.59 1.41.59.51 0 1.02-.2 1.41-.59l7.78-7.78 2.81-2.81c.8-.78.8-2.07 0-2.86zM5.41 20L4 18.59l7.72-7.72 1.47 1.35L5.41 20z\"/>\n",
              "  </svg>\n",
              "      </button>\n",
              "      \n",
              "  <style>\n",
              "    .colab-df-container {\n",
              "      display:flex;\n",
              "      flex-wrap:wrap;\n",
              "      gap: 12px;\n",
              "    }\n",
              "\n",
              "    .colab-df-convert {\n",
              "      background-color: #E8F0FE;\n",
              "      border: none;\n",
              "      border-radius: 50%;\n",
              "      cursor: pointer;\n",
              "      display: none;\n",
              "      fill: #1967D2;\n",
              "      height: 32px;\n",
              "      padding: 0 0 0 0;\n",
              "      width: 32px;\n",
              "    }\n",
              "\n",
              "    .colab-df-convert:hover {\n",
              "      background-color: #E2EBFA;\n",
              "      box-shadow: 0px 1px 2px rgba(60, 64, 67, 0.3), 0px 1px 3px 1px rgba(60, 64, 67, 0.15);\n",
              "      fill: #174EA6;\n",
              "    }\n",
              "\n",
              "    [theme=dark] .colab-df-convert {\n",
              "      background-color: #3B4455;\n",
              "      fill: #D2E3FC;\n",
              "    }\n",
              "\n",
              "    [theme=dark] .colab-df-convert:hover {\n",
              "      background-color: #434B5C;\n",
              "      box-shadow: 0px 1px 3px 1px rgba(0, 0, 0, 0.15);\n",
              "      filter: drop-shadow(0px 1px 2px rgba(0, 0, 0, 0.3));\n",
              "      fill: #FFFFFF;\n",
              "    }\n",
              "  </style>\n",
              "\n",
              "      <script>\n",
              "        const buttonEl =\n",
              "          document.querySelector('#df-b5cdf84d-88ee-4464-9597-2a6cbfa9851e button.colab-df-convert');\n",
              "        buttonEl.style.display =\n",
              "          google.colab.kernel.accessAllowed ? 'block' : 'none';\n",
              "\n",
              "        async function convertToInteractive(key) {\n",
              "          const element = document.querySelector('#df-b5cdf84d-88ee-4464-9597-2a6cbfa9851e');\n",
              "          const dataTable =\n",
              "            await google.colab.kernel.invokeFunction('convertToInteractive',\n",
              "                                                     [key], {});\n",
              "          if (!dataTable) return;\n",
              "\n",
              "          const docLinkHtml = 'Like what you see? Visit the ' +\n",
              "            '<a target=\"_blank\" href=https://colab.research.google.com/notebooks/data_table.ipynb>data table notebook</a>'\n",
              "            + ' to learn more about interactive tables.';\n",
              "          element.innerHTML = '';\n",
              "          dataTable['output_type'] = 'display_data';\n",
              "          await google.colab.output.renderOutput(dataTable, element);\n",
              "          const docLink = document.createElement('div');\n",
              "          docLink.innerHTML = docLinkHtml;\n",
              "          element.appendChild(docLink);\n",
              "        }\n",
              "      </script>\n",
              "    </div>\n",
              "  </div>\n",
              "  "
            ]
          },
          "metadata": {},
          "execution_count": 13
        }
      ]
    },
    {
      "cell_type": "code",
      "source": [
        "y.head(2)"
      ],
      "metadata": {
        "colab": {
          "base_uri": "https://localhost:8080/"
        },
        "id": "_RBFqq8TxlOs",
        "outputId": "e4af0fce-bbef-46e1-bedb-672294097841"
      },
      "execution_count": 14,
      "outputs": [
        {
          "output_type": "execute_result",
          "data": {
            "text/plain": [
              "Row ID\n",
              "1     41.9136\n",
              "2    219.5820\n",
              "Name: Profit, dtype: float64"
            ]
          },
          "metadata": {},
          "execution_count": 14
        }
      ]
    },
    {
      "cell_type": "markdown",
      "source": [
        "b. Split train & test"
      ],
      "metadata": {
        "id": "uGQN3uWtzAJW"
      }
    },
    {
      "cell_type": "code",
      "source": [
        "# Import train-test splitting library from sklearn (scikit learn)\n",
        "from sklearn.model_selection import train_test_split"
      ],
      "metadata": {
        "id": "qSrjThW3xot3"
      },
      "execution_count": 15,
      "outputs": []
    },
    {
      "cell_type": "code",
      "source": [
        "X_train, X_test, y_train, y_test = train_test_split(X,\n",
        "                                                    y,\n",
        "                                                    test_size = 0.3,\n",
        "                                                    random_state = 123)"
      ],
      "metadata": {
        "id": "YvNkESlmzHWb"
      },
      "execution_count": 16,
      "outputs": []
    },
    {
      "cell_type": "code",
      "source": [
        "print(X_train.shape)\n",
        "print(X_test.shape)\n",
        "print(X_test.shape[0] / X.shape[0])"
      ],
      "metadata": {
        "colab": {
          "base_uri": "https://localhost:8080/"
        },
        "id": "3COyuFQnzhdF",
        "outputId": "ee98e975-9c7b-4267-f708-808ac764dce7"
      },
      "execution_count": 17,
      "outputs": [
        {
          "output_type": "stream",
          "name": "stdout",
          "text": [
            "(6995, 18)\n",
            "(2998, 18)\n",
            "0.30001000700490343\n"
          ]
        }
      ]
    },
    {
      "cell_type": "markdown",
      "source": [
        "c. Splitting Categorical & Numerical Column"
      ],
      "metadata": {
        "id": "LVLWgiYn0BuG"
      }
    },
    {
      "cell_type": "code",
      "source": [
        "categorical_col = (X_train.select_dtypes('O')).columns\n",
        "numerical_col = list(set(X_train.columns) - set(categorical_col))\n",
        "\n",
        "categorical_col, numerical_col"
      ],
      "metadata": {
        "colab": {
          "base_uri": "https://localhost:8080/"
        },
        "id": "lrompP1YzmFs",
        "outputId": "2e25b8b4-c229-4380-f2dc-3af77bf5be7c"
      },
      "execution_count": 18,
      "outputs": [
        {
          "output_type": "execute_result",
          "data": {
            "text/plain": [
              "(Index(['Order ID', 'Order Date', 'Ship Date', 'Ship Mode', 'Customer ID',\n",
              "        'Customer Name', 'Segment', 'Country', 'City', 'State', 'Region',\n",
              "        'Product ID', 'Category', 'Sub-Category', 'Product Name'],\n",
              "       dtype='object'), ['Quantity', 'Sales', 'Discount'])"
            ]
          },
          "metadata": {},
          "execution_count": 18
        }
      ]
    },
    {
      "cell_type": "code",
      "source": [
        "def splitNumCat(data, num_col, cat_col):\n",
        "    data_num = data[num_col]\n",
        "    data_cat = data[cat_col]\n",
        "\n",
        "    return data_num, data_cat\n",
        "    "
      ],
      "metadata": {
        "id": "cSb-ywJg2Ei8"
      },
      "execution_count": 19,
      "outputs": []
    },
    {
      "cell_type": "code",
      "source": [
        "X_train_num, X_train_cat = splitNumCat(data = X_train,\n",
        "                                       num_col = numerical_col,\n",
        "                                       cat_col = categorical_col)"
      ],
      "metadata": {
        "id": "Fq4ugRBF2UTU"
      },
      "execution_count": 20,
      "outputs": []
    },
    {
      "cell_type": "code",
      "source": [
        "X_train_num.head()"
      ],
      "metadata": {
        "colab": {
          "base_uri": "https://localhost:8080/",
          "height": 238
        },
        "id": "ymEPXEng2XCF",
        "outputId": "552ab12f-c278-49d7-c69d-0c3e90ff7b3a"
      },
      "execution_count": 21,
      "outputs": [
        {
          "output_type": "execute_result",
          "data": {
            "text/plain": [
              "        Quantity    Sales  Discount\n",
              "Row ID                             \n",
              "3490           6  382.116       0.3\n",
              "7377           4   54.336       0.2\n",
              "6180           2   63.960       0.0\n",
              "1726           2    3.552       0.2\n",
              "6730           3    6.129       0.7"
            ],
            "text/html": [
              "\n",
              "  <div id=\"df-f4aded41-1196-4b3a-9883-77ce91228bb6\">\n",
              "    <div class=\"colab-df-container\">\n",
              "      <div>\n",
              "<style scoped>\n",
              "    .dataframe tbody tr th:only-of-type {\n",
              "        vertical-align: middle;\n",
              "    }\n",
              "\n",
              "    .dataframe tbody tr th {\n",
              "        vertical-align: top;\n",
              "    }\n",
              "\n",
              "    .dataframe thead th {\n",
              "        text-align: right;\n",
              "    }\n",
              "</style>\n",
              "<table border=\"1\" class=\"dataframe\">\n",
              "  <thead>\n",
              "    <tr style=\"text-align: right;\">\n",
              "      <th></th>\n",
              "      <th>Quantity</th>\n",
              "      <th>Sales</th>\n",
              "      <th>Discount</th>\n",
              "    </tr>\n",
              "    <tr>\n",
              "      <th>Row ID</th>\n",
              "      <th></th>\n",
              "      <th></th>\n",
              "      <th></th>\n",
              "    </tr>\n",
              "  </thead>\n",
              "  <tbody>\n",
              "    <tr>\n",
              "      <th>3490</th>\n",
              "      <td>6</td>\n",
              "      <td>382.116</td>\n",
              "      <td>0.3</td>\n",
              "    </tr>\n",
              "    <tr>\n",
              "      <th>7377</th>\n",
              "      <td>4</td>\n",
              "      <td>54.336</td>\n",
              "      <td>0.2</td>\n",
              "    </tr>\n",
              "    <tr>\n",
              "      <th>6180</th>\n",
              "      <td>2</td>\n",
              "      <td>63.960</td>\n",
              "      <td>0.0</td>\n",
              "    </tr>\n",
              "    <tr>\n",
              "      <th>1726</th>\n",
              "      <td>2</td>\n",
              "      <td>3.552</td>\n",
              "      <td>0.2</td>\n",
              "    </tr>\n",
              "    <tr>\n",
              "      <th>6730</th>\n",
              "      <td>3</td>\n",
              "      <td>6.129</td>\n",
              "      <td>0.7</td>\n",
              "    </tr>\n",
              "  </tbody>\n",
              "</table>\n",
              "</div>\n",
              "      <button class=\"colab-df-convert\" onclick=\"convertToInteractive('df-f4aded41-1196-4b3a-9883-77ce91228bb6')\"\n",
              "              title=\"Convert this dataframe to an interactive table.\"\n",
              "              style=\"display:none;\">\n",
              "        \n",
              "  <svg xmlns=\"http://www.w3.org/2000/svg\" height=\"24px\"viewBox=\"0 0 24 24\"\n",
              "       width=\"24px\">\n",
              "    <path d=\"M0 0h24v24H0V0z\" fill=\"none\"/>\n",
              "    <path d=\"M18.56 5.44l.94 2.06.94-2.06 2.06-.94-2.06-.94-.94-2.06-.94 2.06-2.06.94zm-11 1L8.5 8.5l.94-2.06 2.06-.94-2.06-.94L8.5 2.5l-.94 2.06-2.06.94zm10 10l.94 2.06.94-2.06 2.06-.94-2.06-.94-.94-2.06-.94 2.06-2.06.94z\"/><path d=\"M17.41 7.96l-1.37-1.37c-.4-.4-.92-.59-1.43-.59-.52 0-1.04.2-1.43.59L10.3 9.45l-7.72 7.72c-.78.78-.78 2.05 0 2.83L4 21.41c.39.39.9.59 1.41.59.51 0 1.02-.2 1.41-.59l7.78-7.78 2.81-2.81c.8-.78.8-2.07 0-2.86zM5.41 20L4 18.59l7.72-7.72 1.47 1.35L5.41 20z\"/>\n",
              "  </svg>\n",
              "      </button>\n",
              "      \n",
              "  <style>\n",
              "    .colab-df-container {\n",
              "      display:flex;\n",
              "      flex-wrap:wrap;\n",
              "      gap: 12px;\n",
              "    }\n",
              "\n",
              "    .colab-df-convert {\n",
              "      background-color: #E8F0FE;\n",
              "      border: none;\n",
              "      border-radius: 50%;\n",
              "      cursor: pointer;\n",
              "      display: none;\n",
              "      fill: #1967D2;\n",
              "      height: 32px;\n",
              "      padding: 0 0 0 0;\n",
              "      width: 32px;\n",
              "    }\n",
              "\n",
              "    .colab-df-convert:hover {\n",
              "      background-color: #E2EBFA;\n",
              "      box-shadow: 0px 1px 2px rgba(60, 64, 67, 0.3), 0px 1px 3px 1px rgba(60, 64, 67, 0.15);\n",
              "      fill: #174EA6;\n",
              "    }\n",
              "\n",
              "    [theme=dark] .colab-df-convert {\n",
              "      background-color: #3B4455;\n",
              "      fill: #D2E3FC;\n",
              "    }\n",
              "\n",
              "    [theme=dark] .colab-df-convert:hover {\n",
              "      background-color: #434B5C;\n",
              "      box-shadow: 0px 1px 3px 1px rgba(0, 0, 0, 0.15);\n",
              "      filter: drop-shadow(0px 1px 2px rgba(0, 0, 0, 0.3));\n",
              "      fill: #FFFFFF;\n",
              "    }\n",
              "  </style>\n",
              "\n",
              "      <script>\n",
              "        const buttonEl =\n",
              "          document.querySelector('#df-f4aded41-1196-4b3a-9883-77ce91228bb6 button.colab-df-convert');\n",
              "        buttonEl.style.display =\n",
              "          google.colab.kernel.accessAllowed ? 'block' : 'none';\n",
              "\n",
              "        async function convertToInteractive(key) {\n",
              "          const element = document.querySelector('#df-f4aded41-1196-4b3a-9883-77ce91228bb6');\n",
              "          const dataTable =\n",
              "            await google.colab.kernel.invokeFunction('convertToInteractive',\n",
              "                                                     [key], {});\n",
              "          if (!dataTable) return;\n",
              "\n",
              "          const docLinkHtml = 'Like what you see? Visit the ' +\n",
              "            '<a target=\"_blank\" href=https://colab.research.google.com/notebooks/data_table.ipynb>data table notebook</a>'\n",
              "            + ' to learn more about interactive tables.';\n",
              "          element.innerHTML = '';\n",
              "          dataTable['output_type'] = 'display_data';\n",
              "          await google.colab.output.renderOutput(dataTable, element);\n",
              "          const docLink = document.createElement('div');\n",
              "          docLink.innerHTML = docLinkHtml;\n",
              "          element.appendChild(docLink);\n",
              "        }\n",
              "      </script>\n",
              "    </div>\n",
              "  </div>\n",
              "  "
            ]
          },
          "metadata": {},
          "execution_count": 21
        }
      ]
    },
    {
      "cell_type": "code",
      "source": [
        "X_train_cat.head()"
      ],
      "metadata": {
        "colab": {
          "base_uri": "https://localhost:8080/",
          "height": 403
        },
        "id": "VwlaPf2p2a_m",
        "outputId": "c9a1489e-5307-43c1-e78a-f8de661268c8"
      },
      "execution_count": 22,
      "outputs": [
        {
          "output_type": "execute_result",
          "data": {
            "text/plain": [
              "              Order ID  Order Date   Ship Date       Ship Mode Customer ID  \\\n",
              "Row ID                                                                       \n",
              "3490    CA-2015-157322    7/2/2015    7/6/2015  Standard Class    RH-19600   \n",
              "7377    US-2017-145597   11/2/2017   11/5/2017     First Class    GG-14650   \n",
              "6180    CA-2015-158421   9/21/2015   9/26/2015  Standard Class    GB-14575   \n",
              "1726    CA-2015-127453  12/19/2015  12/20/2015     First Class    JK-15370   \n",
              "6730    CA-2015-156734   6/18/2015   6/20/2015     First Class    BV-11245   \n",
              "\n",
              "       Customer Name   Segment    Country                  City  \\\n",
              "Row ID                                                            \n",
              "3490    Pharmacy-309  Pharmacy  Indonesia  Sulawesi Selatan-471   \n",
              "7377     Hospital-16  Hospital  Indonesia  Sulawesi Selatan-473   \n",
              "6180    Pharmacy-356  Pharmacy  Indonesia  Daerah Yogyakarta-71   \n",
              "1726    Pharmacy-151  Pharmacy  Indonesia        DKI Jakarta-84   \n",
              "6730     Hospital-90  Hospital  Indonesia         Nusa Timur-26   \n",
              "\n",
              "                    State    Region   Product ID Category Sub-Category  \\\n",
              "Row ID                                                                   \n",
              "3490     Sulawesi Selatan  Sulawesi  CH-10003774    Respi      Respi/B   \n",
              "7377     Sulawesi Selatan  Sulawesi  AR-10001958    Hyper      Hyper/B   \n",
              "6180          DKI Jakarta      Jawa  ST-10000563    Hyper      Hyper/H   \n",
              "1726          DKI Jakarta      Jawa  AP-10002906    Hyper      Hyper/A   \n",
              "6730    Daerah Yogyakarta      Jawa  BI-10002982    Hyper      Hyper/C   \n",
              "\n",
              "              Product Name  \n",
              "Row ID                      \n",
              "3490    Respi/BCH-10003774  \n",
              "7377    Hyper/BAR-10001958  \n",
              "6180    Hyper/HST-10000563  \n",
              "1726    Hyper/AAP-10002906  \n",
              "6730    Hyper/CBI-10002982  "
            ],
            "text/html": [
              "\n",
              "  <div id=\"df-8d6349e3-c0e3-48bc-8161-27ff4eea9dd2\">\n",
              "    <div class=\"colab-df-container\">\n",
              "      <div>\n",
              "<style scoped>\n",
              "    .dataframe tbody tr th:only-of-type {\n",
              "        vertical-align: middle;\n",
              "    }\n",
              "\n",
              "    .dataframe tbody tr th {\n",
              "        vertical-align: top;\n",
              "    }\n",
              "\n",
              "    .dataframe thead th {\n",
              "        text-align: right;\n",
              "    }\n",
              "</style>\n",
              "<table border=\"1\" class=\"dataframe\">\n",
              "  <thead>\n",
              "    <tr style=\"text-align: right;\">\n",
              "      <th></th>\n",
              "      <th>Order ID</th>\n",
              "      <th>Order Date</th>\n",
              "      <th>Ship Date</th>\n",
              "      <th>Ship Mode</th>\n",
              "      <th>Customer ID</th>\n",
              "      <th>Customer Name</th>\n",
              "      <th>Segment</th>\n",
              "      <th>Country</th>\n",
              "      <th>City</th>\n",
              "      <th>State</th>\n",
              "      <th>Region</th>\n",
              "      <th>Product ID</th>\n",
              "      <th>Category</th>\n",
              "      <th>Sub-Category</th>\n",
              "      <th>Product Name</th>\n",
              "    </tr>\n",
              "    <tr>\n",
              "      <th>Row ID</th>\n",
              "      <th></th>\n",
              "      <th></th>\n",
              "      <th></th>\n",
              "      <th></th>\n",
              "      <th></th>\n",
              "      <th></th>\n",
              "      <th></th>\n",
              "      <th></th>\n",
              "      <th></th>\n",
              "      <th></th>\n",
              "      <th></th>\n",
              "      <th></th>\n",
              "      <th></th>\n",
              "      <th></th>\n",
              "      <th></th>\n",
              "    </tr>\n",
              "  </thead>\n",
              "  <tbody>\n",
              "    <tr>\n",
              "      <th>3490</th>\n",
              "      <td>CA-2015-157322</td>\n",
              "      <td>7/2/2015</td>\n",
              "      <td>7/6/2015</td>\n",
              "      <td>Standard Class</td>\n",
              "      <td>RH-19600</td>\n",
              "      <td>Pharmacy-309</td>\n",
              "      <td>Pharmacy</td>\n",
              "      <td>Indonesia</td>\n",
              "      <td>Sulawesi Selatan-471</td>\n",
              "      <td>Sulawesi Selatan</td>\n",
              "      <td>Sulawesi</td>\n",
              "      <td>CH-10003774</td>\n",
              "      <td>Respi</td>\n",
              "      <td>Respi/B</td>\n",
              "      <td>Respi/BCH-10003774</td>\n",
              "    </tr>\n",
              "    <tr>\n",
              "      <th>7377</th>\n",
              "      <td>US-2017-145597</td>\n",
              "      <td>11/2/2017</td>\n",
              "      <td>11/5/2017</td>\n",
              "      <td>First Class</td>\n",
              "      <td>GG-14650</td>\n",
              "      <td>Hospital-16</td>\n",
              "      <td>Hospital</td>\n",
              "      <td>Indonesia</td>\n",
              "      <td>Sulawesi Selatan-473</td>\n",
              "      <td>Sulawesi Selatan</td>\n",
              "      <td>Sulawesi</td>\n",
              "      <td>AR-10001958</td>\n",
              "      <td>Hyper</td>\n",
              "      <td>Hyper/B</td>\n",
              "      <td>Hyper/BAR-10001958</td>\n",
              "    </tr>\n",
              "    <tr>\n",
              "      <th>6180</th>\n",
              "      <td>CA-2015-158421</td>\n",
              "      <td>9/21/2015</td>\n",
              "      <td>9/26/2015</td>\n",
              "      <td>Standard Class</td>\n",
              "      <td>GB-14575</td>\n",
              "      <td>Pharmacy-356</td>\n",
              "      <td>Pharmacy</td>\n",
              "      <td>Indonesia</td>\n",
              "      <td>Daerah Yogyakarta-71</td>\n",
              "      <td>DKI Jakarta</td>\n",
              "      <td>Jawa</td>\n",
              "      <td>ST-10000563</td>\n",
              "      <td>Hyper</td>\n",
              "      <td>Hyper/H</td>\n",
              "      <td>Hyper/HST-10000563</td>\n",
              "    </tr>\n",
              "    <tr>\n",
              "      <th>1726</th>\n",
              "      <td>CA-2015-127453</td>\n",
              "      <td>12/19/2015</td>\n",
              "      <td>12/20/2015</td>\n",
              "      <td>First Class</td>\n",
              "      <td>JK-15370</td>\n",
              "      <td>Pharmacy-151</td>\n",
              "      <td>Pharmacy</td>\n",
              "      <td>Indonesia</td>\n",
              "      <td>DKI Jakarta-84</td>\n",
              "      <td>DKI Jakarta</td>\n",
              "      <td>Jawa</td>\n",
              "      <td>AP-10002906</td>\n",
              "      <td>Hyper</td>\n",
              "      <td>Hyper/A</td>\n",
              "      <td>Hyper/AAP-10002906</td>\n",
              "    </tr>\n",
              "    <tr>\n",
              "      <th>6730</th>\n",
              "      <td>CA-2015-156734</td>\n",
              "      <td>6/18/2015</td>\n",
              "      <td>6/20/2015</td>\n",
              "      <td>First Class</td>\n",
              "      <td>BV-11245</td>\n",
              "      <td>Hospital-90</td>\n",
              "      <td>Hospital</td>\n",
              "      <td>Indonesia</td>\n",
              "      <td>Nusa Timur-26</td>\n",
              "      <td>Daerah Yogyakarta</td>\n",
              "      <td>Jawa</td>\n",
              "      <td>BI-10002982</td>\n",
              "      <td>Hyper</td>\n",
              "      <td>Hyper/C</td>\n",
              "      <td>Hyper/CBI-10002982</td>\n",
              "    </tr>\n",
              "  </tbody>\n",
              "</table>\n",
              "</div>\n",
              "      <button class=\"colab-df-convert\" onclick=\"convertToInteractive('df-8d6349e3-c0e3-48bc-8161-27ff4eea9dd2')\"\n",
              "              title=\"Convert this dataframe to an interactive table.\"\n",
              "              style=\"display:none;\">\n",
              "        \n",
              "  <svg xmlns=\"http://www.w3.org/2000/svg\" height=\"24px\"viewBox=\"0 0 24 24\"\n",
              "       width=\"24px\">\n",
              "    <path d=\"M0 0h24v24H0V0z\" fill=\"none\"/>\n",
              "    <path d=\"M18.56 5.44l.94 2.06.94-2.06 2.06-.94-2.06-.94-.94-2.06-.94 2.06-2.06.94zm-11 1L8.5 8.5l.94-2.06 2.06-.94-2.06-.94L8.5 2.5l-.94 2.06-2.06.94zm10 10l.94 2.06.94-2.06 2.06-.94-2.06-.94-.94-2.06-.94 2.06-2.06.94z\"/><path d=\"M17.41 7.96l-1.37-1.37c-.4-.4-.92-.59-1.43-.59-.52 0-1.04.2-1.43.59L10.3 9.45l-7.72 7.72c-.78.78-.78 2.05 0 2.83L4 21.41c.39.39.9.59 1.41.59.51 0 1.02-.2 1.41-.59l7.78-7.78 2.81-2.81c.8-.78.8-2.07 0-2.86zM5.41 20L4 18.59l7.72-7.72 1.47 1.35L5.41 20z\"/>\n",
              "  </svg>\n",
              "      </button>\n",
              "      \n",
              "  <style>\n",
              "    .colab-df-container {\n",
              "      display:flex;\n",
              "      flex-wrap:wrap;\n",
              "      gap: 12px;\n",
              "    }\n",
              "\n",
              "    .colab-df-convert {\n",
              "      background-color: #E8F0FE;\n",
              "      border: none;\n",
              "      border-radius: 50%;\n",
              "      cursor: pointer;\n",
              "      display: none;\n",
              "      fill: #1967D2;\n",
              "      height: 32px;\n",
              "      padding: 0 0 0 0;\n",
              "      width: 32px;\n",
              "    }\n",
              "\n",
              "    .colab-df-convert:hover {\n",
              "      background-color: #E2EBFA;\n",
              "      box-shadow: 0px 1px 2px rgba(60, 64, 67, 0.3), 0px 1px 3px 1px rgba(60, 64, 67, 0.15);\n",
              "      fill: #174EA6;\n",
              "    }\n",
              "\n",
              "    [theme=dark] .colab-df-convert {\n",
              "      background-color: #3B4455;\n",
              "      fill: #D2E3FC;\n",
              "    }\n",
              "\n",
              "    [theme=dark] .colab-df-convert:hover {\n",
              "      background-color: #434B5C;\n",
              "      box-shadow: 0px 1px 3px 1px rgba(0, 0, 0, 0.15);\n",
              "      filter: drop-shadow(0px 1px 2px rgba(0, 0, 0, 0.3));\n",
              "      fill: #FFFFFF;\n",
              "    }\n",
              "  </style>\n",
              "\n",
              "      <script>\n",
              "        const buttonEl =\n",
              "          document.querySelector('#df-8d6349e3-c0e3-48bc-8161-27ff4eea9dd2 button.colab-df-convert');\n",
              "        buttonEl.style.display =\n",
              "          google.colab.kernel.accessAllowed ? 'block' : 'none';\n",
              "\n",
              "        async function convertToInteractive(key) {\n",
              "          const element = document.querySelector('#df-8d6349e3-c0e3-48bc-8161-27ff4eea9dd2');\n",
              "          const dataTable =\n",
              "            await google.colab.kernel.invokeFunction('convertToInteractive',\n",
              "                                                     [key], {});\n",
              "          if (!dataTable) return;\n",
              "\n",
              "          const docLinkHtml = 'Like what you see? Visit the ' +\n",
              "            '<a target=\"_blank\" href=https://colab.research.google.com/notebooks/data_table.ipynb>data table notebook</a>'\n",
              "            + ' to learn more about interactive tables.';\n",
              "          element.innerHTML = '';\n",
              "          dataTable['output_type'] = 'display_data';\n",
              "          await google.colab.output.renderOutput(dataTable, element);\n",
              "          const docLink = document.createElement('div');\n",
              "          docLink.innerHTML = docLinkHtml;\n",
              "          element.appendChild(docLink);\n",
              "        }\n",
              "      </script>\n",
              "    </div>\n",
              "  </div>\n",
              "  "
            ]
          },
          "metadata": {},
          "execution_count": 22
        }
      ]
    },
    {
      "cell_type": "markdown",
      "source": [
        "d. Handling and Imputer Data"
      ],
      "metadata": {
        "id": "QMhIAoUB2k0U"
      }
    },
    {
      "cell_type": "code",
      "source": [
        "from sklearn.impute import SimpleImputer"
      ],
      "metadata": {
        "id": "boPPd-2W2eO8"
      },
      "execution_count": 23,
      "outputs": []
    },
    {
      "cell_type": "code",
      "source": [
        "def imputerNum(data, imputer = None):\n",
        "    if imputer == None:\n",
        "        # Create imputer\n",
        "        imputer = SimpleImputer(missing_values = np.nan,\n",
        "                                strategy = \"median\")\n",
        "        imputer.fit(data)\n",
        "\n",
        "    # Transform data with imputer\n",
        "    data_imputed = imputer.transform(data)\n",
        "    data_imputed = pd.DataFrame(data_imputed,\n",
        "                                index = data.index,\n",
        "                                columns = data.columns)\n",
        "    \n",
        "    return data_imputed, imputer\n"
      ],
      "metadata": {
        "id": "dury5xF03dyz"
      },
      "execution_count": 24,
      "outputs": []
    },
    {
      "cell_type": "code",
      "source": [
        "def imputerCat(data, imputer = None):\n",
        "    if imputer == None:\n",
        "        # Create imputer\n",
        "        imputer = SimpleImputer(missing_values = np.nan,\n",
        "                                strategy = \"constant\",\n",
        "                                fill_value = \"UNKNOWN\")\n",
        "        imputer.fit(data)\n",
        "\n",
        "    # Transform data with imputer\n",
        "    data_imputed = imputer.transform(data)\n",
        "    data_imputed = pd.DataFrame(data_imputed,\n",
        "                                index = data.index,\n",
        "                                columns = data.columns)\n",
        "    \n",
        "    return data_imputed, imputer\n"
      ],
      "metadata": {
        "id": "XKAYFB1D3k9t"
      },
      "execution_count": 25,
      "outputs": []
    },
    {
      "cell_type": "code",
      "source": [
        "X_train_num_imputed, imputer_num = imputerNum(data = X_train_num)"
      ],
      "metadata": {
        "id": "0WfbsQaY3fxu"
      },
      "execution_count": 26,
      "outputs": []
    },
    {
      "cell_type": "code",
      "source": [
        "X_train_cat_imputed, imputer_cat = imputerCat(data = X_train_cat)"
      ],
      "metadata": {
        "id": "69deDtnJ3iqD"
      },
      "execution_count": 27,
      "outputs": []
    },
    {
      "cell_type": "markdown",
      "source": [
        "e. Preprocessing Categorical Variables"
      ],
      "metadata": {
        "id": "Kla05N3t35oK"
      }
    },
    {
      "cell_type": "code",
      "source": [
        "from sklearn.preprocessing import LabelEncoder"
      ],
      "metadata": {
        "id": "NSEjdKA73pyC"
      },
      "execution_count": 28,
      "outputs": []
    },
    {
      "cell_type": "code",
      "source": [
        "def label_encoder(data, encoder_cols):\n",
        "    \"\"\"\n",
        "    Applies LabelEncoder to specified columns of a DataFrame\n",
        "    Input:\n",
        "        data: DataFrame\n",
        "        encoder_cols: list of column names to apply LabelEncoder\n",
        "    Output:\n",
        "        DataFrame with encoded columns\n",
        "    \"\"\"\n",
        "    for col in encoder_cols:\n",
        "        le = LabelEncoder()\n",
        "        data[col] = le.fit_transform(data[col])\n",
        "    return data"
      ],
      "metadata": {
        "id": "ETajl1fu3425"
      },
      "execution_count": 29,
      "outputs": []
    },
    {
      "cell_type": "code",
      "source": [
        "X_train_cat_encoded = label_encoder(X_train_cat_imputed, categorical_col)"
      ],
      "metadata": {
        "id": "vNI5cyfh45wV"
      },
      "execution_count": 30,
      "outputs": []
    },
    {
      "cell_type": "code",
      "source": [
        "X_train_cat_encoded.head()"
      ],
      "metadata": {
        "colab": {
          "base_uri": "https://localhost:8080/",
          "height": 238
        },
        "id": "v8kwemqk8i-8",
        "outputId": "7423e942-be32-446d-abdf-0134fca10377"
      },
      "execution_count": 31,
      "outputs": [
        {
          "output_type": "execute_result",
          "data": {
            "text/plain": [
              "        Order ID  Order Date  Ship Date  Ship Mode  Customer ID  \\\n",
              "Row ID                                                            \n",
              "3490        1276         927       1039          3          644   \n",
              "7377        3990         229        297          0          296   \n",
              "6180        1283        1133       1235          3          294   \n",
              "1726         937         337        361          0          376   \n",
              "6730        1270         824        883          0          116   \n",
              "\n",
              "        Customer Name  Segment  Country  City  State  Region  Product ID  \\\n",
              "Row ID                                                                     \n",
              "3490              469        1        0   428     27       4         708   \n",
              "7377               67        0        0   430     27       4         301   \n",
              "6180              521        1        0   130      5       1        1606   \n",
              "1726              294        1        0   113      5       1         201   \n",
              "6730              226        0        0   385      6       1         517   \n",
              "\n",
              "        Category  Sub-Category  Product Name  \n",
              "Row ID                                        \n",
              "3490           2            14          1554  \n",
              "7377           1             5           551  \n",
              "6180           1            11          1294  \n",
              "1726           1             4           451  \n",
              "6730           1             6           767  "
            ],
            "text/html": [
              "\n",
              "  <div id=\"df-710cf2f6-3e8f-4c18-9938-968bdf6a77db\">\n",
              "    <div class=\"colab-df-container\">\n",
              "      <div>\n",
              "<style scoped>\n",
              "    .dataframe tbody tr th:only-of-type {\n",
              "        vertical-align: middle;\n",
              "    }\n",
              "\n",
              "    .dataframe tbody tr th {\n",
              "        vertical-align: top;\n",
              "    }\n",
              "\n",
              "    .dataframe thead th {\n",
              "        text-align: right;\n",
              "    }\n",
              "</style>\n",
              "<table border=\"1\" class=\"dataframe\">\n",
              "  <thead>\n",
              "    <tr style=\"text-align: right;\">\n",
              "      <th></th>\n",
              "      <th>Order ID</th>\n",
              "      <th>Order Date</th>\n",
              "      <th>Ship Date</th>\n",
              "      <th>Ship Mode</th>\n",
              "      <th>Customer ID</th>\n",
              "      <th>Customer Name</th>\n",
              "      <th>Segment</th>\n",
              "      <th>Country</th>\n",
              "      <th>City</th>\n",
              "      <th>State</th>\n",
              "      <th>Region</th>\n",
              "      <th>Product ID</th>\n",
              "      <th>Category</th>\n",
              "      <th>Sub-Category</th>\n",
              "      <th>Product Name</th>\n",
              "    </tr>\n",
              "    <tr>\n",
              "      <th>Row ID</th>\n",
              "      <th></th>\n",
              "      <th></th>\n",
              "      <th></th>\n",
              "      <th></th>\n",
              "      <th></th>\n",
              "      <th></th>\n",
              "      <th></th>\n",
              "      <th></th>\n",
              "      <th></th>\n",
              "      <th></th>\n",
              "      <th></th>\n",
              "      <th></th>\n",
              "      <th></th>\n",
              "      <th></th>\n",
              "      <th></th>\n",
              "    </tr>\n",
              "  </thead>\n",
              "  <tbody>\n",
              "    <tr>\n",
              "      <th>3490</th>\n",
              "      <td>1276</td>\n",
              "      <td>927</td>\n",
              "      <td>1039</td>\n",
              "      <td>3</td>\n",
              "      <td>644</td>\n",
              "      <td>469</td>\n",
              "      <td>1</td>\n",
              "      <td>0</td>\n",
              "      <td>428</td>\n",
              "      <td>27</td>\n",
              "      <td>4</td>\n",
              "      <td>708</td>\n",
              "      <td>2</td>\n",
              "      <td>14</td>\n",
              "      <td>1554</td>\n",
              "    </tr>\n",
              "    <tr>\n",
              "      <th>7377</th>\n",
              "      <td>3990</td>\n",
              "      <td>229</td>\n",
              "      <td>297</td>\n",
              "      <td>0</td>\n",
              "      <td>296</td>\n",
              "      <td>67</td>\n",
              "      <td>0</td>\n",
              "      <td>0</td>\n",
              "      <td>430</td>\n",
              "      <td>27</td>\n",
              "      <td>4</td>\n",
              "      <td>301</td>\n",
              "      <td>1</td>\n",
              "      <td>5</td>\n",
              "      <td>551</td>\n",
              "    </tr>\n",
              "    <tr>\n",
              "      <th>6180</th>\n",
              "      <td>1283</td>\n",
              "      <td>1133</td>\n",
              "      <td>1235</td>\n",
              "      <td>3</td>\n",
              "      <td>294</td>\n",
              "      <td>521</td>\n",
              "      <td>1</td>\n",
              "      <td>0</td>\n",
              "      <td>130</td>\n",
              "      <td>5</td>\n",
              "      <td>1</td>\n",
              "      <td>1606</td>\n",
              "      <td>1</td>\n",
              "      <td>11</td>\n",
              "      <td>1294</td>\n",
              "    </tr>\n",
              "    <tr>\n",
              "      <th>1726</th>\n",
              "      <td>937</td>\n",
              "      <td>337</td>\n",
              "      <td>361</td>\n",
              "      <td>0</td>\n",
              "      <td>376</td>\n",
              "      <td>294</td>\n",
              "      <td>1</td>\n",
              "      <td>0</td>\n",
              "      <td>113</td>\n",
              "      <td>5</td>\n",
              "      <td>1</td>\n",
              "      <td>201</td>\n",
              "      <td>1</td>\n",
              "      <td>4</td>\n",
              "      <td>451</td>\n",
              "    </tr>\n",
              "    <tr>\n",
              "      <th>6730</th>\n",
              "      <td>1270</td>\n",
              "      <td>824</td>\n",
              "      <td>883</td>\n",
              "      <td>0</td>\n",
              "      <td>116</td>\n",
              "      <td>226</td>\n",
              "      <td>0</td>\n",
              "      <td>0</td>\n",
              "      <td>385</td>\n",
              "      <td>6</td>\n",
              "      <td>1</td>\n",
              "      <td>517</td>\n",
              "      <td>1</td>\n",
              "      <td>6</td>\n",
              "      <td>767</td>\n",
              "    </tr>\n",
              "  </tbody>\n",
              "</table>\n",
              "</div>\n",
              "      <button class=\"colab-df-convert\" onclick=\"convertToInteractive('df-710cf2f6-3e8f-4c18-9938-968bdf6a77db')\"\n",
              "              title=\"Convert this dataframe to an interactive table.\"\n",
              "              style=\"display:none;\">\n",
              "        \n",
              "  <svg xmlns=\"http://www.w3.org/2000/svg\" height=\"24px\"viewBox=\"0 0 24 24\"\n",
              "       width=\"24px\">\n",
              "    <path d=\"M0 0h24v24H0V0z\" fill=\"none\"/>\n",
              "    <path d=\"M18.56 5.44l.94 2.06.94-2.06 2.06-.94-2.06-.94-.94-2.06-.94 2.06-2.06.94zm-11 1L8.5 8.5l.94-2.06 2.06-.94-2.06-.94L8.5 2.5l-.94 2.06-2.06.94zm10 10l.94 2.06.94-2.06 2.06-.94-2.06-.94-.94-2.06-.94 2.06-2.06.94z\"/><path d=\"M17.41 7.96l-1.37-1.37c-.4-.4-.92-.59-1.43-.59-.52 0-1.04.2-1.43.59L10.3 9.45l-7.72 7.72c-.78.78-.78 2.05 0 2.83L4 21.41c.39.39.9.59 1.41.59.51 0 1.02-.2 1.41-.59l7.78-7.78 2.81-2.81c.8-.78.8-2.07 0-2.86zM5.41 20L4 18.59l7.72-7.72 1.47 1.35L5.41 20z\"/>\n",
              "  </svg>\n",
              "      </button>\n",
              "      \n",
              "  <style>\n",
              "    .colab-df-container {\n",
              "      display:flex;\n",
              "      flex-wrap:wrap;\n",
              "      gap: 12px;\n",
              "    }\n",
              "\n",
              "    .colab-df-convert {\n",
              "      background-color: #E8F0FE;\n",
              "      border: none;\n",
              "      border-radius: 50%;\n",
              "      cursor: pointer;\n",
              "      display: none;\n",
              "      fill: #1967D2;\n",
              "      height: 32px;\n",
              "      padding: 0 0 0 0;\n",
              "      width: 32px;\n",
              "    }\n",
              "\n",
              "    .colab-df-convert:hover {\n",
              "      background-color: #E2EBFA;\n",
              "      box-shadow: 0px 1px 2px rgba(60, 64, 67, 0.3), 0px 1px 3px 1px rgba(60, 64, 67, 0.15);\n",
              "      fill: #174EA6;\n",
              "    }\n",
              "\n",
              "    [theme=dark] .colab-df-convert {\n",
              "      background-color: #3B4455;\n",
              "      fill: #D2E3FC;\n",
              "    }\n",
              "\n",
              "    [theme=dark] .colab-df-convert:hover {\n",
              "      background-color: #434B5C;\n",
              "      box-shadow: 0px 1px 3px 1px rgba(0, 0, 0, 0.15);\n",
              "      filter: drop-shadow(0px 1px 2px rgba(0, 0, 0, 0.3));\n",
              "      fill: #FFFFFF;\n",
              "    }\n",
              "  </style>\n",
              "\n",
              "      <script>\n",
              "        const buttonEl =\n",
              "          document.querySelector('#df-710cf2f6-3e8f-4c18-9938-968bdf6a77db button.colab-df-convert');\n",
              "        buttonEl.style.display =\n",
              "          google.colab.kernel.accessAllowed ? 'block' : 'none';\n",
              "\n",
              "        async function convertToInteractive(key) {\n",
              "          const element = document.querySelector('#df-710cf2f6-3e8f-4c18-9938-968bdf6a77db');\n",
              "          const dataTable =\n",
              "            await google.colab.kernel.invokeFunction('convertToInteractive',\n",
              "                                                     [key], {});\n",
              "          if (!dataTable) return;\n",
              "\n",
              "          const docLinkHtml = 'Like what you see? Visit the ' +\n",
              "            '<a target=\"_blank\" href=https://colab.research.google.com/notebooks/data_table.ipynb>data table notebook</a>'\n",
              "            + ' to learn more about interactive tables.';\n",
              "          element.innerHTML = '';\n",
              "          dataTable['output_type'] = 'display_data';\n",
              "          await google.colab.output.renderOutput(dataTable, element);\n",
              "          const docLink = document.createElement('div');\n",
              "          docLink.innerHTML = docLinkHtml;\n",
              "          element.appendChild(docLink);\n",
              "        }\n",
              "      </script>\n",
              "    </div>\n",
              "  </div>\n",
              "  "
            ]
          },
          "metadata": {},
          "execution_count": 31
        }
      ]
    },
    {
      "cell_type": "code",
      "source": [
        "X_train_concat = pd.concat([X_train_num_imputed, X_train_cat_encoded],\n",
        "                           axis = 1)\n",
        "X_train_concat.head()"
      ],
      "metadata": {
        "colab": {
          "base_uri": "https://localhost:8080/",
          "height": 238
        },
        "id": "0tFQiKf3AADx",
        "outputId": "8f7b676a-818c-494d-ded8-94724740a6bf"
      },
      "execution_count": 32,
      "outputs": [
        {
          "output_type": "execute_result",
          "data": {
            "text/plain": [
              "        Quantity    Sales  Discount  Order ID  Order Date  Ship Date  \\\n",
              "Row ID                                                                 \n",
              "3490         6.0  382.116       0.3      1276         927       1039   \n",
              "7377         4.0   54.336       0.2      3990         229        297   \n",
              "6180         2.0   63.960       0.0      1283        1133       1235   \n",
              "1726         2.0    3.552       0.2       937         337        361   \n",
              "6730         3.0    6.129       0.7      1270         824        883   \n",
              "\n",
              "        Ship Mode  Customer ID  Customer Name  Segment  Country  City  State  \\\n",
              "Row ID                                                                         \n",
              "3490            3          644            469        1        0   428     27   \n",
              "7377            0          296             67        0        0   430     27   \n",
              "6180            3          294            521        1        0   130      5   \n",
              "1726            0          376            294        1        0   113      5   \n",
              "6730            0          116            226        0        0   385      6   \n",
              "\n",
              "        Region  Product ID  Category  Sub-Category  Product Name  \n",
              "Row ID                                                            \n",
              "3490         4         708         2            14          1554  \n",
              "7377         4         301         1             5           551  \n",
              "6180         1        1606         1            11          1294  \n",
              "1726         1         201         1             4           451  \n",
              "6730         1         517         1             6           767  "
            ],
            "text/html": [
              "\n",
              "  <div id=\"df-62ffab40-bbac-4ed4-bf37-f3d45f9e8f01\">\n",
              "    <div class=\"colab-df-container\">\n",
              "      <div>\n",
              "<style scoped>\n",
              "    .dataframe tbody tr th:only-of-type {\n",
              "        vertical-align: middle;\n",
              "    }\n",
              "\n",
              "    .dataframe tbody tr th {\n",
              "        vertical-align: top;\n",
              "    }\n",
              "\n",
              "    .dataframe thead th {\n",
              "        text-align: right;\n",
              "    }\n",
              "</style>\n",
              "<table border=\"1\" class=\"dataframe\">\n",
              "  <thead>\n",
              "    <tr style=\"text-align: right;\">\n",
              "      <th></th>\n",
              "      <th>Quantity</th>\n",
              "      <th>Sales</th>\n",
              "      <th>Discount</th>\n",
              "      <th>Order ID</th>\n",
              "      <th>Order Date</th>\n",
              "      <th>Ship Date</th>\n",
              "      <th>Ship Mode</th>\n",
              "      <th>Customer ID</th>\n",
              "      <th>Customer Name</th>\n",
              "      <th>Segment</th>\n",
              "      <th>Country</th>\n",
              "      <th>City</th>\n",
              "      <th>State</th>\n",
              "      <th>Region</th>\n",
              "      <th>Product ID</th>\n",
              "      <th>Category</th>\n",
              "      <th>Sub-Category</th>\n",
              "      <th>Product Name</th>\n",
              "    </tr>\n",
              "    <tr>\n",
              "      <th>Row ID</th>\n",
              "      <th></th>\n",
              "      <th></th>\n",
              "      <th></th>\n",
              "      <th></th>\n",
              "      <th></th>\n",
              "      <th></th>\n",
              "      <th></th>\n",
              "      <th></th>\n",
              "      <th></th>\n",
              "      <th></th>\n",
              "      <th></th>\n",
              "      <th></th>\n",
              "      <th></th>\n",
              "      <th></th>\n",
              "      <th></th>\n",
              "      <th></th>\n",
              "      <th></th>\n",
              "      <th></th>\n",
              "    </tr>\n",
              "  </thead>\n",
              "  <tbody>\n",
              "    <tr>\n",
              "      <th>3490</th>\n",
              "      <td>6.0</td>\n",
              "      <td>382.116</td>\n",
              "      <td>0.3</td>\n",
              "      <td>1276</td>\n",
              "      <td>927</td>\n",
              "      <td>1039</td>\n",
              "      <td>3</td>\n",
              "      <td>644</td>\n",
              "      <td>469</td>\n",
              "      <td>1</td>\n",
              "      <td>0</td>\n",
              "      <td>428</td>\n",
              "      <td>27</td>\n",
              "      <td>4</td>\n",
              "      <td>708</td>\n",
              "      <td>2</td>\n",
              "      <td>14</td>\n",
              "      <td>1554</td>\n",
              "    </tr>\n",
              "    <tr>\n",
              "      <th>7377</th>\n",
              "      <td>4.0</td>\n",
              "      <td>54.336</td>\n",
              "      <td>0.2</td>\n",
              "      <td>3990</td>\n",
              "      <td>229</td>\n",
              "      <td>297</td>\n",
              "      <td>0</td>\n",
              "      <td>296</td>\n",
              "      <td>67</td>\n",
              "      <td>0</td>\n",
              "      <td>0</td>\n",
              "      <td>430</td>\n",
              "      <td>27</td>\n",
              "      <td>4</td>\n",
              "      <td>301</td>\n",
              "      <td>1</td>\n",
              "      <td>5</td>\n",
              "      <td>551</td>\n",
              "    </tr>\n",
              "    <tr>\n",
              "      <th>6180</th>\n",
              "      <td>2.0</td>\n",
              "      <td>63.960</td>\n",
              "      <td>0.0</td>\n",
              "      <td>1283</td>\n",
              "      <td>1133</td>\n",
              "      <td>1235</td>\n",
              "      <td>3</td>\n",
              "      <td>294</td>\n",
              "      <td>521</td>\n",
              "      <td>1</td>\n",
              "      <td>0</td>\n",
              "      <td>130</td>\n",
              "      <td>5</td>\n",
              "      <td>1</td>\n",
              "      <td>1606</td>\n",
              "      <td>1</td>\n",
              "      <td>11</td>\n",
              "      <td>1294</td>\n",
              "    </tr>\n",
              "    <tr>\n",
              "      <th>1726</th>\n",
              "      <td>2.0</td>\n",
              "      <td>3.552</td>\n",
              "      <td>0.2</td>\n",
              "      <td>937</td>\n",
              "      <td>337</td>\n",
              "      <td>361</td>\n",
              "      <td>0</td>\n",
              "      <td>376</td>\n",
              "      <td>294</td>\n",
              "      <td>1</td>\n",
              "      <td>0</td>\n",
              "      <td>113</td>\n",
              "      <td>5</td>\n",
              "      <td>1</td>\n",
              "      <td>201</td>\n",
              "      <td>1</td>\n",
              "      <td>4</td>\n",
              "      <td>451</td>\n",
              "    </tr>\n",
              "    <tr>\n",
              "      <th>6730</th>\n",
              "      <td>3.0</td>\n",
              "      <td>6.129</td>\n",
              "      <td>0.7</td>\n",
              "      <td>1270</td>\n",
              "      <td>824</td>\n",
              "      <td>883</td>\n",
              "      <td>0</td>\n",
              "      <td>116</td>\n",
              "      <td>226</td>\n",
              "      <td>0</td>\n",
              "      <td>0</td>\n",
              "      <td>385</td>\n",
              "      <td>6</td>\n",
              "      <td>1</td>\n",
              "      <td>517</td>\n",
              "      <td>1</td>\n",
              "      <td>6</td>\n",
              "      <td>767</td>\n",
              "    </tr>\n",
              "  </tbody>\n",
              "</table>\n",
              "</div>\n",
              "      <button class=\"colab-df-convert\" onclick=\"convertToInteractive('df-62ffab40-bbac-4ed4-bf37-f3d45f9e8f01')\"\n",
              "              title=\"Convert this dataframe to an interactive table.\"\n",
              "              style=\"display:none;\">\n",
              "        \n",
              "  <svg xmlns=\"http://www.w3.org/2000/svg\" height=\"24px\"viewBox=\"0 0 24 24\"\n",
              "       width=\"24px\">\n",
              "    <path d=\"M0 0h24v24H0V0z\" fill=\"none\"/>\n",
              "    <path d=\"M18.56 5.44l.94 2.06.94-2.06 2.06-.94-2.06-.94-.94-2.06-.94 2.06-2.06.94zm-11 1L8.5 8.5l.94-2.06 2.06-.94-2.06-.94L8.5 2.5l-.94 2.06-2.06.94zm10 10l.94 2.06.94-2.06 2.06-.94-2.06-.94-.94-2.06-.94 2.06-2.06.94z\"/><path d=\"M17.41 7.96l-1.37-1.37c-.4-.4-.92-.59-1.43-.59-.52 0-1.04.2-1.43.59L10.3 9.45l-7.72 7.72c-.78.78-.78 2.05 0 2.83L4 21.41c.39.39.9.59 1.41.59.51 0 1.02-.2 1.41-.59l7.78-7.78 2.81-2.81c.8-.78.8-2.07 0-2.86zM5.41 20L4 18.59l7.72-7.72 1.47 1.35L5.41 20z\"/>\n",
              "  </svg>\n",
              "      </button>\n",
              "      \n",
              "  <style>\n",
              "    .colab-df-container {\n",
              "      display:flex;\n",
              "      flex-wrap:wrap;\n",
              "      gap: 12px;\n",
              "    }\n",
              "\n",
              "    .colab-df-convert {\n",
              "      background-color: #E8F0FE;\n",
              "      border: none;\n",
              "      border-radius: 50%;\n",
              "      cursor: pointer;\n",
              "      display: none;\n",
              "      fill: #1967D2;\n",
              "      height: 32px;\n",
              "      padding: 0 0 0 0;\n",
              "      width: 32px;\n",
              "    }\n",
              "\n",
              "    .colab-df-convert:hover {\n",
              "      background-color: #E2EBFA;\n",
              "      box-shadow: 0px 1px 2px rgba(60, 64, 67, 0.3), 0px 1px 3px 1px rgba(60, 64, 67, 0.15);\n",
              "      fill: #174EA6;\n",
              "    }\n",
              "\n",
              "    [theme=dark] .colab-df-convert {\n",
              "      background-color: #3B4455;\n",
              "      fill: #D2E3FC;\n",
              "    }\n",
              "\n",
              "    [theme=dark] .colab-df-convert:hover {\n",
              "      background-color: #434B5C;\n",
              "      box-shadow: 0px 1px 3px 1px rgba(0, 0, 0, 0.15);\n",
              "      filter: drop-shadow(0px 1px 2px rgba(0, 0, 0, 0.3));\n",
              "      fill: #FFFFFF;\n",
              "    }\n",
              "  </style>\n",
              "\n",
              "      <script>\n",
              "        const buttonEl =\n",
              "          document.querySelector('#df-62ffab40-bbac-4ed4-bf37-f3d45f9e8f01 button.colab-df-convert');\n",
              "        buttonEl.style.display =\n",
              "          google.colab.kernel.accessAllowed ? 'block' : 'none';\n",
              "\n",
              "        async function convertToInteractive(key) {\n",
              "          const element = document.querySelector('#df-62ffab40-bbac-4ed4-bf37-f3d45f9e8f01');\n",
              "          const dataTable =\n",
              "            await google.colab.kernel.invokeFunction('convertToInteractive',\n",
              "                                                     [key], {});\n",
              "          if (!dataTable) return;\n",
              "\n",
              "          const docLinkHtml = 'Like what you see? Visit the ' +\n",
              "            '<a target=\"_blank\" href=https://colab.research.google.com/notebooks/data_table.ipynb>data table notebook</a>'\n",
              "            + ' to learn more about interactive tables.';\n",
              "          element.innerHTML = '';\n",
              "          dataTable['output_type'] = 'display_data';\n",
              "          await google.colab.output.renderOutput(dataTable, element);\n",
              "          const docLink = document.createElement('div');\n",
              "          docLink.innerHTML = docLinkHtml;\n",
              "          element.appendChild(docLink);\n",
              "        }\n",
              "      </script>\n",
              "    </div>\n",
              "  </div>\n",
              "  "
            ]
          },
          "metadata": {},
          "execution_count": 32
        }
      ]
    },
    {
      "cell_type": "markdown",
      "source": [
        "f. Standardizing Variables"
      ],
      "metadata": {
        "id": "GaDZyX_rA03h"
      }
    },
    {
      "cell_type": "code",
      "source": [
        "from sklearn.preprocessing import StandardScaler\n",
        "\n",
        "def standardizerData(data):\n",
        "    \"\"\"\n",
        "    Function to standardize data\n",
        "     :param data: <pandas dataframe> sample data\n",
        "     :return standardized_data: <pandas dataframe> standardized data sample\n",
        "     :return standardizer: method for standardizing data\n",
        "    \"\"\"\n",
        "    data_columns = data.columns  \n",
        "    data_index = data.index  \n",
        "\n",
        "    # Create (fit) standardizer\n",
        "    standardizer = StandardScaler()\n",
        "    standardizer.fit(data)\n",
        "\n",
        "    # transform data\n",
        "    standardized_data_raw = standardizer.transform(data)\n",
        "    standardized_data = pd.DataFrame(standardized_data_raw)\n",
        "    standardized_data.columns = data_columns\n",
        "    standardized_data.index = data_index\n",
        "\n",
        "    return standardized_data, standardizer"
      ],
      "metadata": {
        "id": "hbUIbVGTAPgy"
      },
      "execution_count": 33,
      "outputs": []
    },
    {
      "cell_type": "code",
      "source": [
        "X_train_clean, standardizer = standardizerData(data = X_train_concat)"
      ],
      "metadata": {
        "id": "xM0ftNgcA6Xx"
      },
      "execution_count": 34,
      "outputs": []
    },
    {
      "cell_type": "code",
      "source": [
        "X_train_clean.head()"
      ],
      "metadata": {
        "colab": {
          "base_uri": "https://localhost:8080/",
          "height": 316
        },
        "id": "AlD060PLA-ss",
        "outputId": "bb0afb73-6d59-47a6-cf8c-aef0c000c1a9"
      },
      "execution_count": 35,
      "outputs": [
        {
          "output_type": "execute_result",
          "data": {
            "text/plain": [
              "        Quantity     Sales  Discount  Order ID  Order Date  Ship Date  \\\n",
              "Row ID                                                                  \n",
              "3490    0.980422  0.218243  0.685522 -0.639430    0.904959   1.059075   \n",
              "7377    0.092878 -0.270286  0.204074  1.648199   -1.055127  -0.878420   \n",
              "6180   -0.794666 -0.255942 -0.758824 -0.633530    1.483436   1.570867   \n",
              "1726   -0.794666 -0.345975  0.204074 -0.925173   -0.751847  -0.711304   \n",
              "6730   -0.350894 -0.342134  2.611317 -0.644488    0.615720   0.651731   \n",
              "\n",
              "        Ship Mode  Customer ID  Customer Name   Segment  Country      City  \\\n",
              "Row ID                                                                       \n",
              "3490     0.696065     1.069306       0.338101  0.171071      0.0  1.300645   \n",
              "7377    -2.032162    -0.462414      -1.416186 -1.286473      0.0  1.315718   \n",
              "6180     0.696065    -0.471217       0.565024  0.171071      0.0 -0.945212   \n",
              "1726    -2.032162    -0.110294      -0.425581  0.171071      0.0 -1.073332   \n",
              "6730    -2.032162    -1.254683      -0.722326 -1.286473      0.0  0.976579   \n",
              "\n",
              "           State    Region  Product ID  Category  Sub-Category  Product Name  \n",
              "Row ID                                                                        \n",
              "3490    1.380751  1.019592   -0.350642  1.540358      1.275184      1.204780  \n",
              "7377    1.380751  1.019592   -1.126281 -0.043706     -0.674760     -0.745886  \n",
              "6180   -1.004081 -0.705347    1.360718 -0.043706      0.625202      0.699124  \n",
              "1726   -1.004081 -0.705347   -1.316856 -0.043706     -0.891421     -0.940369  \n",
              "6730   -0.895680 -0.705347   -0.714640 -0.043706     -0.458100     -0.325802  "
            ],
            "text/html": [
              "\n",
              "  <div id=\"df-30cb5dd4-03c9-41d5-9151-84876ed3411e\">\n",
              "    <div class=\"colab-df-container\">\n",
              "      <div>\n",
              "<style scoped>\n",
              "    .dataframe tbody tr th:only-of-type {\n",
              "        vertical-align: middle;\n",
              "    }\n",
              "\n",
              "    .dataframe tbody tr th {\n",
              "        vertical-align: top;\n",
              "    }\n",
              "\n",
              "    .dataframe thead th {\n",
              "        text-align: right;\n",
              "    }\n",
              "</style>\n",
              "<table border=\"1\" class=\"dataframe\">\n",
              "  <thead>\n",
              "    <tr style=\"text-align: right;\">\n",
              "      <th></th>\n",
              "      <th>Quantity</th>\n",
              "      <th>Sales</th>\n",
              "      <th>Discount</th>\n",
              "      <th>Order ID</th>\n",
              "      <th>Order Date</th>\n",
              "      <th>Ship Date</th>\n",
              "      <th>Ship Mode</th>\n",
              "      <th>Customer ID</th>\n",
              "      <th>Customer Name</th>\n",
              "      <th>Segment</th>\n",
              "      <th>Country</th>\n",
              "      <th>City</th>\n",
              "      <th>State</th>\n",
              "      <th>Region</th>\n",
              "      <th>Product ID</th>\n",
              "      <th>Category</th>\n",
              "      <th>Sub-Category</th>\n",
              "      <th>Product Name</th>\n",
              "    </tr>\n",
              "    <tr>\n",
              "      <th>Row ID</th>\n",
              "      <th></th>\n",
              "      <th></th>\n",
              "      <th></th>\n",
              "      <th></th>\n",
              "      <th></th>\n",
              "      <th></th>\n",
              "      <th></th>\n",
              "      <th></th>\n",
              "      <th></th>\n",
              "      <th></th>\n",
              "      <th></th>\n",
              "      <th></th>\n",
              "      <th></th>\n",
              "      <th></th>\n",
              "      <th></th>\n",
              "      <th></th>\n",
              "      <th></th>\n",
              "      <th></th>\n",
              "    </tr>\n",
              "  </thead>\n",
              "  <tbody>\n",
              "    <tr>\n",
              "      <th>3490</th>\n",
              "      <td>0.980422</td>\n",
              "      <td>0.218243</td>\n",
              "      <td>0.685522</td>\n",
              "      <td>-0.639430</td>\n",
              "      <td>0.904959</td>\n",
              "      <td>1.059075</td>\n",
              "      <td>0.696065</td>\n",
              "      <td>1.069306</td>\n",
              "      <td>0.338101</td>\n",
              "      <td>0.171071</td>\n",
              "      <td>0.0</td>\n",
              "      <td>1.300645</td>\n",
              "      <td>1.380751</td>\n",
              "      <td>1.019592</td>\n",
              "      <td>-0.350642</td>\n",
              "      <td>1.540358</td>\n",
              "      <td>1.275184</td>\n",
              "      <td>1.204780</td>\n",
              "    </tr>\n",
              "    <tr>\n",
              "      <th>7377</th>\n",
              "      <td>0.092878</td>\n",
              "      <td>-0.270286</td>\n",
              "      <td>0.204074</td>\n",
              "      <td>1.648199</td>\n",
              "      <td>-1.055127</td>\n",
              "      <td>-0.878420</td>\n",
              "      <td>-2.032162</td>\n",
              "      <td>-0.462414</td>\n",
              "      <td>-1.416186</td>\n",
              "      <td>-1.286473</td>\n",
              "      <td>0.0</td>\n",
              "      <td>1.315718</td>\n",
              "      <td>1.380751</td>\n",
              "      <td>1.019592</td>\n",
              "      <td>-1.126281</td>\n",
              "      <td>-0.043706</td>\n",
              "      <td>-0.674760</td>\n",
              "      <td>-0.745886</td>\n",
              "    </tr>\n",
              "    <tr>\n",
              "      <th>6180</th>\n",
              "      <td>-0.794666</td>\n",
              "      <td>-0.255942</td>\n",
              "      <td>-0.758824</td>\n",
              "      <td>-0.633530</td>\n",
              "      <td>1.483436</td>\n",
              "      <td>1.570867</td>\n",
              "      <td>0.696065</td>\n",
              "      <td>-0.471217</td>\n",
              "      <td>0.565024</td>\n",
              "      <td>0.171071</td>\n",
              "      <td>0.0</td>\n",
              "      <td>-0.945212</td>\n",
              "      <td>-1.004081</td>\n",
              "      <td>-0.705347</td>\n",
              "      <td>1.360718</td>\n",
              "      <td>-0.043706</td>\n",
              "      <td>0.625202</td>\n",
              "      <td>0.699124</td>\n",
              "    </tr>\n",
              "    <tr>\n",
              "      <th>1726</th>\n",
              "      <td>-0.794666</td>\n",
              "      <td>-0.345975</td>\n",
              "      <td>0.204074</td>\n",
              "      <td>-0.925173</td>\n",
              "      <td>-0.751847</td>\n",
              "      <td>-0.711304</td>\n",
              "      <td>-2.032162</td>\n",
              "      <td>-0.110294</td>\n",
              "      <td>-0.425581</td>\n",
              "      <td>0.171071</td>\n",
              "      <td>0.0</td>\n",
              "      <td>-1.073332</td>\n",
              "      <td>-1.004081</td>\n",
              "      <td>-0.705347</td>\n",
              "      <td>-1.316856</td>\n",
              "      <td>-0.043706</td>\n",
              "      <td>-0.891421</td>\n",
              "      <td>-0.940369</td>\n",
              "    </tr>\n",
              "    <tr>\n",
              "      <th>6730</th>\n",
              "      <td>-0.350894</td>\n",
              "      <td>-0.342134</td>\n",
              "      <td>2.611317</td>\n",
              "      <td>-0.644488</td>\n",
              "      <td>0.615720</td>\n",
              "      <td>0.651731</td>\n",
              "      <td>-2.032162</td>\n",
              "      <td>-1.254683</td>\n",
              "      <td>-0.722326</td>\n",
              "      <td>-1.286473</td>\n",
              "      <td>0.0</td>\n",
              "      <td>0.976579</td>\n",
              "      <td>-0.895680</td>\n",
              "      <td>-0.705347</td>\n",
              "      <td>-0.714640</td>\n",
              "      <td>-0.043706</td>\n",
              "      <td>-0.458100</td>\n",
              "      <td>-0.325802</td>\n",
              "    </tr>\n",
              "  </tbody>\n",
              "</table>\n",
              "</div>\n",
              "      <button class=\"colab-df-convert\" onclick=\"convertToInteractive('df-30cb5dd4-03c9-41d5-9151-84876ed3411e')\"\n",
              "              title=\"Convert this dataframe to an interactive table.\"\n",
              "              style=\"display:none;\">\n",
              "        \n",
              "  <svg xmlns=\"http://www.w3.org/2000/svg\" height=\"24px\"viewBox=\"0 0 24 24\"\n",
              "       width=\"24px\">\n",
              "    <path d=\"M0 0h24v24H0V0z\" fill=\"none\"/>\n",
              "    <path d=\"M18.56 5.44l.94 2.06.94-2.06 2.06-.94-2.06-.94-.94-2.06-.94 2.06-2.06.94zm-11 1L8.5 8.5l.94-2.06 2.06-.94-2.06-.94L8.5 2.5l-.94 2.06-2.06.94zm10 10l.94 2.06.94-2.06 2.06-.94-2.06-.94-.94-2.06-.94 2.06-2.06.94z\"/><path d=\"M17.41 7.96l-1.37-1.37c-.4-.4-.92-.59-1.43-.59-.52 0-1.04.2-1.43.59L10.3 9.45l-7.72 7.72c-.78.78-.78 2.05 0 2.83L4 21.41c.39.39.9.59 1.41.59.51 0 1.02-.2 1.41-.59l7.78-7.78 2.81-2.81c.8-.78.8-2.07 0-2.86zM5.41 20L4 18.59l7.72-7.72 1.47 1.35L5.41 20z\"/>\n",
              "  </svg>\n",
              "      </button>\n",
              "      \n",
              "  <style>\n",
              "    .colab-df-container {\n",
              "      display:flex;\n",
              "      flex-wrap:wrap;\n",
              "      gap: 12px;\n",
              "    }\n",
              "\n",
              "    .colab-df-convert {\n",
              "      background-color: #E8F0FE;\n",
              "      border: none;\n",
              "      border-radius: 50%;\n",
              "      cursor: pointer;\n",
              "      display: none;\n",
              "      fill: #1967D2;\n",
              "      height: 32px;\n",
              "      padding: 0 0 0 0;\n",
              "      width: 32px;\n",
              "    }\n",
              "\n",
              "    .colab-df-convert:hover {\n",
              "      background-color: #E2EBFA;\n",
              "      box-shadow: 0px 1px 2px rgba(60, 64, 67, 0.3), 0px 1px 3px 1px rgba(60, 64, 67, 0.15);\n",
              "      fill: #174EA6;\n",
              "    }\n",
              "\n",
              "    [theme=dark] .colab-df-convert {\n",
              "      background-color: #3B4455;\n",
              "      fill: #D2E3FC;\n",
              "    }\n",
              "\n",
              "    [theme=dark] .colab-df-convert:hover {\n",
              "      background-color: #434B5C;\n",
              "      box-shadow: 0px 1px 3px 1px rgba(0, 0, 0, 0.15);\n",
              "      filter: drop-shadow(0px 1px 2px rgba(0, 0, 0, 0.3));\n",
              "      fill: #FFFFFF;\n",
              "    }\n",
              "  </style>\n",
              "\n",
              "      <script>\n",
              "        const buttonEl =\n",
              "          document.querySelector('#df-30cb5dd4-03c9-41d5-9151-84876ed3411e button.colab-df-convert');\n",
              "        buttonEl.style.display =\n",
              "          google.colab.kernel.accessAllowed ? 'block' : 'none';\n",
              "\n",
              "        async function convertToInteractive(key) {\n",
              "          const element = document.querySelector('#df-30cb5dd4-03c9-41d5-9151-84876ed3411e');\n",
              "          const dataTable =\n",
              "            await google.colab.kernel.invokeFunction('convertToInteractive',\n",
              "                                                     [key], {});\n",
              "          if (!dataTable) return;\n",
              "\n",
              "          const docLinkHtml = 'Like what you see? Visit the ' +\n",
              "            '<a target=\"_blank\" href=https://colab.research.google.com/notebooks/data_table.ipynb>data table notebook</a>'\n",
              "            + ' to learn more about interactive tables.';\n",
              "          element.innerHTML = '';\n",
              "          dataTable['output_type'] = 'display_data';\n",
              "          await google.colab.output.renderOutput(dataTable, element);\n",
              "          const docLink = document.createElement('div');\n",
              "          docLink.innerHTML = docLinkHtml;\n",
              "          element.appendChild(docLink);\n",
              "        }\n",
              "      </script>\n",
              "    </div>\n",
              "  </div>\n",
              "  "
            ]
          },
          "metadata": {},
          "execution_count": 35
        }
      ]
    },
    {
      "cell_type": "markdown",
      "source": [
        "**4. Training Machine Learning**"
      ],
      "metadata": {
        "id": "47ii52bxG4Jc"
      }
    },
    {
      "cell_type": "markdown",
      "source": [
        "a. Baseline Model"
      ],
      "metadata": {
        "id": "G-qae-3IOHVE"
      }
    },
    {
      "cell_type": "code",
      "source": [
        "from sklearn.metrics import mean_absolute_error"
      ],
      "metadata": {
        "id": "rUAUWX3LOJ3z"
      },
      "execution_count": 36,
      "outputs": []
    },
    {
      "cell_type": "code",
      "source": [
        "y_pred_baseline = y_train.mean()\n",
        "y_pred_baseline"
      ],
      "metadata": {
        "colab": {
          "base_uri": "https://localhost:8080/"
        },
        "id": "lpgJwaVaBALh",
        "outputId": "706d94f2-798e-4e99-aa68-6cf64eabb311"
      },
      "execution_count": 37,
      "outputs": [
        {
          "output_type": "execute_result",
          "data": {
            "text/plain": [
              "30.352213995711224"
            ]
          },
          "metadata": {},
          "execution_count": 37
        }
      ]
    },
    {
      "cell_type": "code",
      "source": [
        "mae_train_baseline = mean_absolute_error(y_train, y_pred_baseline * np.ones(len(y_train)))\n",
        "mae_test_baseline = mean_absolute_error(y_test, y_pred_baseline * np.ones(len(y_test)))\n",
        "\n",
        "print(f\"MAE Train :{mae_train_baseline:.4f}\")\n",
        "print(f\"MAE CV    :{mae_train_baseline:.4f}\")\n",
        "print(f\"MAE Test  :{mae_test_baseline:.4f}\")"
      ],
      "metadata": {
        "colab": {
          "base_uri": "https://localhost:8080/"
        },
        "id": "1phycxmxOgmo",
        "outputId": "0c3ac17d-84ad-40fb-d3f2-d29a68e6502b"
      },
      "execution_count": 38,
      "outputs": [
        {
          "output_type": "stream",
          "name": "stdout",
          "text": [
            "MAE Train :67.7164\n",
            "MAE CV    :67.7164\n",
            "MAE Test  :56.4897\n"
          ]
        }
      ]
    },
    {
      "cell_type": "markdown",
      "source": [
        "b. Decision Tree Regression Model"
      ],
      "metadata": {
        "id": "rahnHgECRHjm"
      }
    },
    {
      "cell_type": "code",
      "source": [
        "from sklearn.tree import DecisionTreeRegressor\n",
        "from sklearn.model_selection import GridSearchCV"
      ],
      "metadata": {
        "id": "5Mtkjm_YPx9w"
      },
      "execution_count": 39,
      "outputs": []
    },
    {
      "cell_type": "code",
      "source": [
        "params = {\"max_depth\": [2, 4, 6, 8, 10]}\n",
        "\n",
        "# Create gridsearch\n",
        "tree = DecisionTreeRegressor(random_state = 123)\n",
        "\n",
        "tree_cv = GridSearchCV(estimator = tree,\n",
        "                       param_grid = params,\n",
        "                       cv = 10,\n",
        "                       scoring = \"neg_mean_absolute_error\")"
      ],
      "metadata": {
        "id": "PoO0UliJRPOi"
      },
      "execution_count": 40,
      "outputs": []
    },
    {
      "cell_type": "code",
      "source": [
        "# Fit grid search cv\n",
        "tree_cv.fit(X_train_clean, y_train)"
      ],
      "metadata": {
        "colab": {
          "base_uri": "https://localhost:8080/"
        },
        "id": "ClR8_emARi6e",
        "outputId": "70e5305c-4db3-4f07-cd08-13c9dbeb9eb4"
      },
      "execution_count": 41,
      "outputs": [
        {
          "output_type": "execute_result",
          "data": {
            "text/plain": [
              "GridSearchCV(cv=10, estimator=DecisionTreeRegressor(random_state=123),\n",
              "             param_grid={'max_depth': [2, 4, 6, 8, 10]},\n",
              "             scoring='neg_mean_absolute_error')"
            ]
          },
          "metadata": {},
          "execution_count": 41
        }
      ]
    },
    {
      "cell_type": "code",
      "source": [
        "# Best params\n",
        "tree_cv.best_params_"
      ],
      "metadata": {
        "colab": {
          "base_uri": "https://localhost:8080/"
        },
        "id": "tfYixliwSY1a",
        "outputId": "ea18a8b6-32ac-44b3-f2ae-b7ebc6ca4101"
      },
      "execution_count": 42,
      "outputs": [
        {
          "output_type": "execute_result",
          "data": {
            "text/plain": [
              "{'max_depth': 10}"
            ]
          },
          "metadata": {},
          "execution_count": 42
        }
      ]
    },
    {
      "cell_type": "code",
      "source": [
        "means_dt = tree_cv.cv_results_['mean_test_score']*-1\n",
        "params_dt = tree_cv.cv_results_['params']\n",
        "\n",
        "for mean, param in zip(means_dt, params_dt):\n",
        "    print(\"Mean: %f, Param: %r\" % (mean, param))"
      ],
      "metadata": {
        "colab": {
          "base_uri": "https://localhost:8080/"
        },
        "id": "l6e39fGpN3eR",
        "outputId": "f893ac93-b931-482d-fd22-38897a152ee4"
      },
      "execution_count": 43,
      "outputs": [
        {
          "output_type": "stream",
          "name": "stdout",
          "text": [
            "Mean: 61.845875, Param: {'max_depth': 2}\n",
            "Mean: 54.376783, Param: {'max_depth': 4}\n",
            "Mean: 40.712483, Param: {'max_depth': 6}\n",
            "Mean: 32.869378, Param: {'max_depth': 8}\n",
            "Mean: 30.895703, Param: {'max_depth': 10}\n"
          ]
        }
      ]
    },
    {
      "cell_type": "code",
      "source": [
        "params_dt = np.array(list(params.values()))[0]\n",
        "fig, ax = plt.subplots(nrows=1, ncols=1, figsize=(8, 8))\n",
        "\n",
        "ax.plot(params_dt, means_dt, \"--r\", label=\"training\")\n",
        "ax.set_ylim(0)\n",
        "ax.set_xlabel(\"Parameter\")\n",
        "ax.set_ylabel(\"Error\")\n",
        "plt.legend()\n",
        "plt.show()"
      ],
      "metadata": {
        "colab": {
          "base_uri": "https://localhost:8080/",
          "height": 497
        },
        "id": "WM3aB1S8RAPS",
        "outputId": "999448c7-bf42-463d-e7f6-704083015416"
      },
      "execution_count": 44,
      "outputs": [
        {
          "output_type": "display_data",
          "data": {
            "text/plain": [
              "<Figure size 576x576 with 1 Axes>"
            ],
            "image/png": "[encoded data removed]"
          },
          "metadata": {
            "needs_background": "light"
          }
        }
      ]
    },
    {
      "cell_type": "code",
      "source": [
        "# Refit the bagging tree\n",
        "tree = DecisionTreeRegressor(max_depth = tree_cv.best_params_[\"max_depth\"],\n",
        "                             random_state = 123)\n",
        "\n",
        "tree.fit(X_train_clean, y_train)"
      ],
      "metadata": {
        "colab": {
          "base_uri": "https://localhost:8080/"
        },
        "id": "m-Jmjy1tSg7Q",
        "outputId": "c827bc84-bef9-4802-bf1e-784fe519b9a0"
      },
      "execution_count": 45,
      "outputs": [
        {
          "output_type": "execute_result",
          "data": {
            "text/plain": [
              "DecisionTreeRegressor(max_depth=10, random_state=123)"
            ]
          },
          "metadata": {},
          "execution_count": 45
        }
      ]
    },
    {
      "cell_type": "code",
      "source": [
        "# Predict\n",
        "y_pred_train_dt = tree.predict(X_train_clean)\n",
        "\n",
        "# MSE\n",
        "mae_train_dt = mean_absolute_error(y_train, y_pred_train_dt)\n",
        "mae_cv_dt = -tree_cv.best_score_\n",
        "\n",
        "print(f\"MAE Train :{mae_train_dt:.4f}\")\n",
        "print(f\"MAE CV    :{mae_cv_dt:.4f}\")"
      ],
      "metadata": {
        "colab": {
          "base_uri": "https://localhost:8080/"
        },
        "id": "1vyhe0dcSmTM",
        "outputId": "b3c9d273-be7e-4081-e914-8087e358b6fc"
      },
      "execution_count": 46,
      "outputs": [
        {
          "output_type": "stream",
          "name": "stdout",
          "text": [
            "MAE Train :12.0014\n",
            "MAE CV    :30.8957\n"
          ]
        }
      ]
    },
    {
      "cell_type": "code",
      "source": [
        "summary_train_pred_dt = pd.DataFrame({\"actual\": y_train,\n",
        "                                   \"prediction\": y_pred_train_dt})\n",
        "\n",
        "summary_train_pred_dt.head()"
      ],
      "metadata": {
        "colab": {
          "base_uri": "https://localhost:8080/",
          "height": 238
        },
        "id": "zIkC4virSsRF",
        "outputId": "d343e985-8861-41f2-d70b-12ebdfd277b0"
      },
      "execution_count": 47,
      "outputs": [
        {
          "output_type": "execute_result",
          "data": {
            "text/plain": [
              "         actual  prediction\n",
              "Row ID                     \n",
              "3490   -92.7996  -43.784934\n",
              "7377     5.4336   11.192035\n",
              "6180     6.3960   12.202897\n",
              "1726     0.4440    1.008632\n",
              "6730    -4.4946   -5.862503"
            ],
            "text/html": [
              "\n",
              "  <div id=\"df-7fca285d-fd37-4bf0-a616-0a1aadb3c713\">\n",
              "    <div class=\"colab-df-container\">\n",
              "      <div>\n",
              "<style scoped>\n",
              "    .dataframe tbody tr th:only-of-type {\n",
              "        vertical-align: middle;\n",
              "    }\n",
              "\n",
              "    .dataframe tbody tr th {\n",
              "        vertical-align: top;\n",
              "    }\n",
              "\n",
              "    .dataframe thead th {\n",
              "        text-align: right;\n",
              "    }\n",
              "</style>\n",
              "<table border=\"1\" class=\"dataframe\">\n",
              "  <thead>\n",
              "    <tr style=\"text-align: right;\">\n",
              "      <th></th>\n",
              "      <th>actual</th>\n",
              "      <th>prediction</th>\n",
              "    </tr>\n",
              "    <tr>\n",
              "      <th>Row ID</th>\n",
              "      <th></th>\n",
              "      <th></th>\n",
              "    </tr>\n",
              "  </thead>\n",
              "  <tbody>\n",
              "    <tr>\n",
              "      <th>3490</th>\n",
              "      <td>-92.7996</td>\n",
              "      <td>-43.784934</td>\n",
              "    </tr>\n",
              "    <tr>\n",
              "      <th>7377</th>\n",
              "      <td>5.4336</td>\n",
              "      <td>11.192035</td>\n",
              "    </tr>\n",
              "    <tr>\n",
              "      <th>6180</th>\n",
              "      <td>6.3960</td>\n",
              "      <td>12.202897</td>\n",
              "    </tr>\n",
              "    <tr>\n",
              "      <th>1726</th>\n",
              "      <td>0.4440</td>\n",
              "      <td>1.008632</td>\n",
              "    </tr>\n",
              "    <tr>\n",
              "      <th>6730</th>\n",
              "      <td>-4.4946</td>\n",
              "      <td>-5.862503</td>\n",
              "    </tr>\n",
              "  </tbody>\n",
              "</table>\n",
              "</div>\n",
              "      <button class=\"colab-df-convert\" onclick=\"convertToInteractive('df-7fca285d-fd37-4bf0-a616-0a1aadb3c713')\"\n",
              "              title=\"Convert this dataframe to an interactive table.\"\n",
              "              style=\"display:none;\">\n",
              "        \n",
              "  <svg xmlns=\"http://www.w3.org/2000/svg\" height=\"24px\"viewBox=\"0 0 24 24\"\n",
              "       width=\"24px\">\n",
              "    <path d=\"M0 0h24v24H0V0z\" fill=\"none\"/>\n",
              "    <path d=\"M18.56 5.44l.94 2.06.94-2.06 2.06-.94-2.06-.94-.94-2.06-.94 2.06-2.06.94zm-11 1L8.5 8.5l.94-2.06 2.06-.94-2.06-.94L8.5 2.5l-.94 2.06-2.06.94zm10 10l.94 2.06.94-2.06 2.06-.94-2.06-.94-.94-2.06-.94 2.06-2.06.94z\"/><path d=\"M17.41 7.96l-1.37-1.37c-.4-.4-.92-.59-1.43-.59-.52 0-1.04.2-1.43.59L10.3 9.45l-7.72 7.72c-.78.78-.78 2.05 0 2.83L4 21.41c.39.39.9.59 1.41.59.51 0 1.02-.2 1.41-.59l7.78-7.78 2.81-2.81c.8-.78.8-2.07 0-2.86zM5.41 20L4 18.59l7.72-7.72 1.47 1.35L5.41 20z\"/>\n",
              "  </svg>\n",
              "      </button>\n",
              "      \n",
              "  <style>\n",
              "    .colab-df-container {\n",
              "      display:flex;\n",
              "      flex-wrap:wrap;\n",
              "      gap: 12px;\n",
              "    }\n",
              "\n",
              "    .colab-df-convert {\n",
              "      background-color: #E8F0FE;\n",
              "      border: none;\n",
              "      border-radius: 50%;\n",
              "      cursor: pointer;\n",
              "      display: none;\n",
              "      fill: #1967D2;\n",
              "      height: 32px;\n",
              "      padding: 0 0 0 0;\n",
              "      width: 32px;\n",
              "    }\n",
              "\n",
              "    .colab-df-convert:hover {\n",
              "      background-color: #E2EBFA;\n",
              "      box-shadow: 0px 1px 2px rgba(60, 64, 67, 0.3), 0px 1px 3px 1px rgba(60, 64, 67, 0.15);\n",
              "      fill: #174EA6;\n",
              "    }\n",
              "\n",
              "    [theme=dark] .colab-df-convert {\n",
              "      background-color: #3B4455;\n",
              "      fill: #D2E3FC;\n",
              "    }\n",
              "\n",
              "    [theme=dark] .colab-df-convert:hover {\n",
              "      background-color: #434B5C;\n",
              "      box-shadow: 0px 1px 3px 1px rgba(0, 0, 0, 0.15);\n",
              "      filter: drop-shadow(0px 1px 2px rgba(0, 0, 0, 0.3));\n",
              "      fill: #FFFFFF;\n",
              "    }\n",
              "  </style>\n",
              "\n",
              "      <script>\n",
              "        const buttonEl =\n",
              "          document.querySelector('#df-7fca285d-fd37-4bf0-a616-0a1aadb3c713 button.colab-df-convert');\n",
              "        buttonEl.style.display =\n",
              "          google.colab.kernel.accessAllowed ? 'block' : 'none';\n",
              "\n",
              "        async function convertToInteractive(key) {\n",
              "          const element = document.querySelector('#df-7fca285d-fd37-4bf0-a616-0a1aadb3c713');\n",
              "          const dataTable =\n",
              "            await google.colab.kernel.invokeFunction('convertToInteractive',\n",
              "                                                     [key], {});\n",
              "          if (!dataTable) return;\n",
              "\n",
              "          const docLinkHtml = 'Like what you see? Visit the ' +\n",
              "            '<a target=\"_blank\" href=https://colab.research.google.com/notebooks/data_table.ipynb>data table notebook</a>'\n",
              "            + ' to learn more about interactive tables.';\n",
              "          element.innerHTML = '';\n",
              "          dataTable['output_type'] = 'display_data';\n",
              "          await google.colab.output.renderOutput(dataTable, element);\n",
              "          const docLink = document.createElement('div');\n",
              "          docLink.innerHTML = docLinkHtml;\n",
              "          element.appendChild(docLink);\n",
              "        }\n",
              "      </script>\n",
              "    </div>\n",
              "  </div>\n",
              "  "
            ]
          },
          "metadata": {},
          "execution_count": 47
        }
      ]
    },
    {
      "cell_type": "code",
      "source": [
        "# Plot Result\n",
        "fig, ax = plt.subplots(nrows=1, ncols=1, figsize=(10, 10))\n",
        "\n",
        "ax.scatter(summary_train_pred_dt[\"actual\"], summary_train_pred_dt[\"prediction\"])\n",
        "ax.plot([-6000,8000 ], [-6000, 8000], \"--k\")\n",
        "\n",
        "ax.set_xlabel(\"Actual\")\n",
        "ax.set_ylabel(\"Prediction\")\n",
        "#ax.set_xlim(-100, 100)\n",
        "#ax.set_ylim(-100, 100)\n",
        "plt.show()"
      ],
      "metadata": {
        "colab": {
          "base_uri": "https://localhost:8080/",
          "height": 606
        },
        "id": "wzfSXZY1Swyu",
        "outputId": "5d182732-e18c-402a-8c3b-189e8010ec52"
      },
      "execution_count": 48,
      "outputs": [
        {
          "output_type": "display_data",
          "data": {
            "text/plain": [
              "<Figure size 720x720 with 1 Axes>"
            ],
            "image/png": "[encoded data removed]"
          },
          "metadata": {
            "needs_background": "light"
          }
        }
      ]
    },
    {
      "cell_type": "code",
      "source": [
        "# Plot Result\n",
        "fig, ax = plt.subplots(nrows=1, ncols=1, figsize=(10, 10))\n",
        "\n",
        "ax.scatter(summary_train_pred_dt[\"actual\"], summary_train_pred_dt[\"prediction\"])\n",
        "ax.plot([-6000,8000 ], [-6000, 8000], \"--k\")\n",
        "\n",
        "ax.set_xlabel(\"Actual\")\n",
        "ax.set_ylabel(\"Prediction\")\n",
        "ax.set_xlim(-100, 100)\n",
        "ax.set_ylim(-100, 100)\n",
        "plt.show()"
      ],
      "metadata": {
        "colab": {
          "base_uri": "https://localhost:8080/",
          "height": 610
        },
        "id": "AgMaZ3lZBTgl",
        "outputId": "c49b9932-6a7e-40e2-c34d-0c65754d2947"
      },
      "execution_count": 49,
      "outputs": [
        {
          "output_type": "display_data",
          "data": {
            "text/plain": [
              "<Figure size 720x720 with 1 Axes>"
            ],
            "image/png": "[encoded data removed]"
          },
          "metadata": {
            "needs_background": "light"
          }
        }
      ]
    },
    {
      "cell_type": "markdown",
      "source": [
        "c. Random Forest Method"
      ],
      "metadata": {
        "id": "mp7_anAZ7AME"
      }
    },
    {
      "cell_type": "code",
      "source": [
        "from sklearn.ensemble import RandomForestRegressor"
      ],
      "metadata": {
        "id": "O2GGXBXi6xcO"
      },
      "execution_count": 50,
      "outputs": []
    },
    {
      "cell_type": "code",
      "source": [
        "# Build random forest\n",
        "rf_tree = RandomForestRegressor(n_estimators = 100,\n",
        "                                criterion = \"squared_error\",\n",
        "                                max_features = \"sqrt\",\n",
        "                                random_state = 123)"
      ],
      "metadata": {
        "id": "UUV-JnbXS1X3"
      },
      "execution_count": 51,
      "outputs": []
    },
    {
      "cell_type": "code",
      "source": [
        "# Fit random forest\n",
        "rf_tree.fit(X_train_clean, y_train)"
      ],
      "metadata": {
        "colab": {
          "base_uri": "https://localhost:8080/"
        },
        "id": "lmkJw6oE7Ppf",
        "outputId": "90ee77ee-8436-448c-8f52-61d773a27e50"
      },
      "execution_count": 52,
      "outputs": [
        {
          "output_type": "execute_result",
          "data": {
            "text/plain": [
              "RandomForestRegressor(max_features='sqrt', random_state=123)"
            ]
          },
          "metadata": {},
          "execution_count": 52
        }
      ]
    },
    {
      "cell_type": "code",
      "source": [
        "# Predict\n",
        "y_pred_train = rf_tree.predict(X_train_clean)\n",
        "\n",
        "# MSE\n",
        "mae_train = mean_absolute_error(y_train, y_pred_train)\n",
        "\n",
        "mae_train"
      ],
      "metadata": {
        "colab": {
          "base_uri": "https://localhost:8080/"
        },
        "id": "2J0v8K6W7S4L",
        "outputId": "dd638ce0-c34d-4a1b-e100-cb7dbfc378ab"
      },
      "execution_count": 53,
      "outputs": [
        {
          "output_type": "execute_result",
          "data": {
            "text/plain": [
              "12.208654719228019"
            ]
          },
          "metadata": {},
          "execution_count": 53
        }
      ]
    },
    {
      "cell_type": "code",
      "source": [
        "B = [5, 10, 15, 20, 30, 50, 100, 500]"
      ],
      "metadata": {
        "id": "FLWr9wa-8Vym"
      },
      "execution_count": 54,
      "outputs": []
    },
    {
      "cell_type": "code",
      "source": [
        "params = {\"n_estimators\": B,\n",
        "          \"max_features\": [\"sqrt\", \"log2\"]}\n",
        "\n",
        "# Buat gridsearch\n",
        "rf_tree = RandomForestRegressor(criterion = \"squared_error\",\n",
        "                                random_state = 123)\n",
        "\n",
        "rf_tree_cv = GridSearchCV(estimator = rf_tree,\n",
        "                          param_grid = params,\n",
        "                          cv = 10,\n",
        "                          scoring = \"neg_mean_absolute_error\")"
      ],
      "metadata": {
        "id": "-PNiqM9u79wH"
      },
      "execution_count": 55,
      "outputs": []
    },
    {
      "cell_type": "code",
      "source": [
        "# Fit grid search cv\n",
        "rf_tree_cv.fit(X_train_clean, y_train)"
      ],
      "metadata": {
        "colab": {
          "base_uri": "https://localhost:8080/"
        },
        "id": "mw8Rpb7P8KsV",
        "outputId": "dd3f7423-0510-4890-c9bb-46ad0f4adffb"
      },
      "execution_count": 56,
      "outputs": [
        {
          "output_type": "execute_result",
          "data": {
            "text/plain": [
              "GridSearchCV(cv=10, estimator=RandomForestRegressor(random_state=123),\n",
              "             param_grid={'max_features': ['sqrt', 'log2'],\n",
              "                         'n_estimators': [5, 10, 15, 20, 30, 50, 100, 500]},\n",
              "             scoring='neg_mean_absolute_error')"
            ]
          },
          "metadata": {},
          "execution_count": 56
        }
      ]
    },
    {
      "cell_type": "code",
      "source": [
        "# Best params\n",
        "rf_tree_cv.best_params_"
      ],
      "metadata": {
        "colab": {
          "base_uri": "https://localhost:8080/"
        },
        "id": "ahBdTCBH8Zsx",
        "outputId": "9021d22f-0d49-468c-93a6-4bdb471780de"
      },
      "execution_count": 57,
      "outputs": [
        {
          "output_type": "execute_result",
          "data": {
            "text/plain": [
              "{'max_features': 'sqrt', 'n_estimators': 500}"
            ]
          },
          "metadata": {},
          "execution_count": 57
        }
      ]
    },
    {
      "cell_type": "code",
      "source": [
        "means_rf = rf_tree_cv.cv_results_['mean_test_score']*-1\n",
        "params_rf = rf_tree_cv.cv_results_['params']\n",
        "\n",
        "for mean, param in zip(means_rf, params_rf):\n",
        "    print(\"Mean: %f, Param: %r\" % (mean, param))"
      ],
      "metadata": {
        "colab": {
          "base_uri": "https://localhost:8080/"
        },
        "id": "82LI5fWgfY9B",
        "outputId": "6915e6ed-3ad9-45dc-f0ff-38233a7ab855"
      },
      "execution_count": 58,
      "outputs": [
        {
          "output_type": "stream",
          "name": "stdout",
          "text": [
            "Mean: 38.955542, Param: {'max_features': 'sqrt', 'n_estimators': 5}\n",
            "Mean: 36.932157, Param: {'max_features': 'sqrt', 'n_estimators': 10}\n",
            "Mean: 34.962411, Param: {'max_features': 'sqrt', 'n_estimators': 15}\n",
            "Mean: 33.833138, Param: {'max_features': 'sqrt', 'n_estimators': 20}\n",
            "Mean: 34.013208, Param: {'max_features': 'sqrt', 'n_estimators': 30}\n",
            "Mean: 34.112297, Param: {'max_features': 'sqrt', 'n_estimators': 50}\n",
            "Mean: 32.913128, Param: {'max_features': 'sqrt', 'n_estimators': 100}\n",
            "Mean: 32.408563, Param: {'max_features': 'sqrt', 'n_estimators': 500}\n",
            "Mean: 38.955542, Param: {'max_features': 'log2', 'n_estimators': 5}\n",
            "Mean: 36.932157, Param: {'max_features': 'log2', 'n_estimators': 10}\n",
            "Mean: 34.962411, Param: {'max_features': 'log2', 'n_estimators': 15}\n",
            "Mean: 33.833138, Param: {'max_features': 'log2', 'n_estimators': 20}\n",
            "Mean: 34.013208, Param: {'max_features': 'log2', 'n_estimators': 30}\n",
            "Mean: 34.112297, Param: {'max_features': 'log2', 'n_estimators': 50}\n",
            "Mean: 32.913128, Param: {'max_features': 'log2', 'n_estimators': 100}\n",
            "Mean: 32.408563, Param: {'max_features': 'log2', 'n_estimators': 500}\n"
          ]
        }
      ]
    },
    {
      "cell_type": "code",
      "source": [
        "means_rf_sqrt = means_rf[0:len(B)]\n",
        "fig, ax = plt.subplots(nrows=1, ncols=1, figsize=(8, 8))\n",
        "\n",
        "ax.plot(B, means_rf_sqrt, \"--r\", label=\"training\")\n",
        "ax.set_ylim(0)\n",
        "ax.set_xlabel(\"Parameter\")\n",
        "ax.set_ylabel(\"Error\")\n",
        "plt.legend()\n",
        "plt.show()"
      ],
      "metadata": {
        "colab": {
          "base_uri": "https://localhost:8080/",
          "height": 497
        },
        "id": "Iy-IP9SDf30T",
        "outputId": "1571454e-de5f-457a-c700-6530e78d7dea"
      },
      "execution_count": 59,
      "outputs": [
        {
          "output_type": "display_data",
          "data": {
            "text/plain": [
              "<Figure size 576x576 with 1 Axes>"
            ],
            "image/png": "[encoded data removed]"
          },
          "metadata": {
            "needs_background": "light"
          }
        }
      ]
    },
    {
      "cell_type": "code",
      "source": [
        "# Refit the Random Forest\n",
        "rf_tree = RandomForestRegressor(criterion = \"squared_error\",\n",
        "                                max_features = rf_tree_cv.best_params_[\"max_features\"],\n",
        "                                n_estimators = rf_tree_cv.best_params_[\"n_estimators\"],\n",
        "                                random_state = 123)\n",
        "\n",
        "rf_tree.fit(X_train_clean, y_train)"
      ],
      "metadata": {
        "colab": {
          "base_uri": "https://localhost:8080/"
        },
        "id": "762RFdPT9F97",
        "outputId": "2b2cf047-c5ed-497e-f68d-a606ed363120"
      },
      "execution_count": 60,
      "outputs": [
        {
          "output_type": "execute_result",
          "data": {
            "text/plain": [
              "RandomForestRegressor(max_features='sqrt', n_estimators=500, random_state=123)"
            ]
          },
          "metadata": {},
          "execution_count": 60
        }
      ]
    },
    {
      "cell_type": "code",
      "source": [
        "# Predict\n",
        "y_pred_train_rf = rf_tree.predict(X_train_clean)\n",
        "\n",
        "# MSE\n",
        "mae_train_rf = mean_absolute_error(y_train, y_pred_train_rf)\n",
        "mae_cv_rf = -rf_tree_cv.best_score_\n",
        "\n",
        "print(f\"MAE Train :{mae_train_rf:.4f}\")\n",
        "print(f\"MAE CV    :{mae_cv_rf:.4f}\")"
      ],
      "metadata": {
        "colab": {
          "base_uri": "https://localhost:8080/"
        },
        "id": "32mahvey9JuR",
        "outputId": "69cc0367-9097-42ba-bd76-9ced7080dbb0"
      },
      "execution_count": 61,
      "outputs": [
        {
          "output_type": "stream",
          "name": "stdout",
          "text": [
            "MAE Train :11.7743\n",
            "MAE CV    :32.4086\n"
          ]
        }
      ]
    },
    {
      "cell_type": "code",
      "source": [
        "summary_train_pred_rf = pd.DataFrame({\"actual\": y_train,\n",
        "                                   \"prediction\": y_pred_train_rf})\n",
        "\n",
        "summary_train_pred_rf.head()"
      ],
      "metadata": {
        "colab": {
          "base_uri": "https://localhost:8080/",
          "height": 238
        },
        "id": "a7tDfaBZ9bcb",
        "outputId": "188c081d-28df-4122-96ee-03f15d14735e"
      },
      "execution_count": 62,
      "outputs": [
        {
          "output_type": "execute_result",
          "data": {
            "text/plain": [
              "         actual  prediction\n",
              "Row ID                     \n",
              "3490   -92.7996  -80.649986\n",
              "7377     5.4336    1.570850\n",
              "6180     6.3960    8.936248\n",
              "1726     0.4440    2.990488\n",
              "6730    -4.4946   -6.066388"
            ],
            "text/html": [
              "\n",
              "  <div id=\"df-4d060d1f-4983-4fab-ad4d-a8f881c6cc1b\">\n",
              "    <div class=\"colab-df-container\">\n",
              "      <div>\n",
              "<style scoped>\n",
              "    .dataframe tbody tr th:only-of-type {\n",
              "        vertical-align: middle;\n",
              "    }\n",
              "\n",
              "    .dataframe tbody tr th {\n",
              "        vertical-align: top;\n",
              "    }\n",
              "\n",
              "    .dataframe thead th {\n",
              "        text-align: right;\n",
              "    }\n",
              "</style>\n",
              "<table border=\"1\" class=\"dataframe\">\n",
              "  <thead>\n",
              "    <tr style=\"text-align: right;\">\n",
              "      <th></th>\n",
              "      <th>actual</th>\n",
              "      <th>prediction</th>\n",
              "    </tr>\n",
              "    <tr>\n",
              "      <th>Row ID</th>\n",
              "      <th></th>\n",
              "      <th></th>\n",
              "    </tr>\n",
              "  </thead>\n",
              "  <tbody>\n",
              "    <tr>\n",
              "      <th>3490</th>\n",
              "      <td>-92.7996</td>\n",
              "      <td>-80.649986</td>\n",
              "    </tr>\n",
              "    <tr>\n",
              "      <th>7377</th>\n",
              "      <td>5.4336</td>\n",
              "      <td>1.570850</td>\n",
              "    </tr>\n",
              "    <tr>\n",
              "      <th>6180</th>\n",
              "      <td>6.3960</td>\n",
              "      <td>8.936248</td>\n",
              "    </tr>\n",
              "    <tr>\n",
              "      <th>1726</th>\n",
              "      <td>0.4440</td>\n",
              "      <td>2.990488</td>\n",
              "    </tr>\n",
              "    <tr>\n",
              "      <th>6730</th>\n",
              "      <td>-4.4946</td>\n",
              "      <td>-6.066388</td>\n",
              "    </tr>\n",
              "  </tbody>\n",
              "</table>\n",
              "</div>\n",
              "      <button class=\"colab-df-convert\" onclick=\"convertToInteractive('df-4d060d1f-4983-4fab-ad4d-a8f881c6cc1b')\"\n",
              "              title=\"Convert this dataframe to an interactive table.\"\n",
              "              style=\"display:none;\">\n",
              "        \n",
              "  <svg xmlns=\"http://www.w3.org/2000/svg\" height=\"24px\"viewBox=\"0 0 24 24\"\n",
              "       width=\"24px\">\n",
              "    <path d=\"M0 0h24v24H0V0z\" fill=\"none\"/>\n",
              "    <path d=\"M18.56 5.44l.94 2.06.94-2.06 2.06-.94-2.06-.94-.94-2.06-.94 2.06-2.06.94zm-11 1L8.5 8.5l.94-2.06 2.06-.94-2.06-.94L8.5 2.5l-.94 2.06-2.06.94zm10 10l.94 2.06.94-2.06 2.06-.94-2.06-.94-.94-2.06-.94 2.06-2.06.94z\"/><path d=\"M17.41 7.96l-1.37-1.37c-.4-.4-.92-.59-1.43-.59-.52 0-1.04.2-1.43.59L10.3 9.45l-7.72 7.72c-.78.78-.78 2.05 0 2.83L4 21.41c.39.39.9.59 1.41.59.51 0 1.02-.2 1.41-.59l7.78-7.78 2.81-2.81c.8-.78.8-2.07 0-2.86zM5.41 20L4 18.59l7.72-7.72 1.47 1.35L5.41 20z\"/>\n",
              "  </svg>\n",
              "      </button>\n",
              "      \n",
              "  <style>\n",
              "    .colab-df-container {\n",
              "      display:flex;\n",
              "      flex-wrap:wrap;\n",
              "      gap: 12px;\n",
              "    }\n",
              "\n",
              "    .colab-df-convert {\n",
              "      background-color: #E8F0FE;\n",
              "      border: none;\n",
              "      border-radius: 50%;\n",
              "      cursor: pointer;\n",
              "      display: none;\n",
              "      fill: #1967D2;\n",
              "      height: 32px;\n",
              "      padding: 0 0 0 0;\n",
              "      width: 32px;\n",
              "    }\n",
              "\n",
              "    .colab-df-convert:hover {\n",
              "      background-color: #E2EBFA;\n",
              "      box-shadow: 0px 1px 2px rgba(60, 64, 67, 0.3), 0px 1px 3px 1px rgba(60, 64, 67, 0.15);\n",
              "      fill: #174EA6;\n",
              "    }\n",
              "\n",
              "    [theme=dark] .colab-df-convert {\n",
              "      background-color: #3B4455;\n",
              "      fill: #D2E3FC;\n",
              "    }\n",
              "\n",
              "    [theme=dark] .colab-df-convert:hover {\n",
              "      background-color: #434B5C;\n",
              "      box-shadow: 0px 1px 3px 1px rgba(0, 0, 0, 0.15);\n",
              "      filter: drop-shadow(0px 1px 2px rgba(0, 0, 0, 0.3));\n",
              "      fill: #FFFFFF;\n",
              "    }\n",
              "  </style>\n",
              "\n",
              "      <script>\n",
              "        const buttonEl =\n",
              "          document.querySelector('#df-4d060d1f-4983-4fab-ad4d-a8f881c6cc1b button.colab-df-convert');\n",
              "        buttonEl.style.display =\n",
              "          google.colab.kernel.accessAllowed ? 'block' : 'none';\n",
              "\n",
              "        async function convertToInteractive(key) {\n",
              "          const element = document.querySelector('#df-4d060d1f-4983-4fab-ad4d-a8f881c6cc1b');\n",
              "          const dataTable =\n",
              "            await google.colab.kernel.invokeFunction('convertToInteractive',\n",
              "                                                     [key], {});\n",
              "          if (!dataTable) return;\n",
              "\n",
              "          const docLinkHtml = 'Like what you see? Visit the ' +\n",
              "            '<a target=\"_blank\" href=https://colab.research.google.com/notebooks/data_table.ipynb>data table notebook</a>'\n",
              "            + ' to learn more about interactive tables.';\n",
              "          element.innerHTML = '';\n",
              "          dataTable['output_type'] = 'display_data';\n",
              "          await google.colab.output.renderOutput(dataTable, element);\n",
              "          const docLink = document.createElement('div');\n",
              "          docLink.innerHTML = docLinkHtml;\n",
              "          element.appendChild(docLink);\n",
              "        }\n",
              "      </script>\n",
              "    </div>\n",
              "  </div>\n",
              "  "
            ]
          },
          "metadata": {},
          "execution_count": 62
        }
      ]
    },
    {
      "cell_type": "code",
      "source": [
        "# Plot Result\n",
        "fig, ax = plt.subplots(nrows=1, ncols=1, figsize=(10, 10))\n",
        "\n",
        "ax.scatter(summary_train_pred_rf[\"actual\"], summary_train_pred_rf[\"prediction\"])\n",
        "ax.plot([-6000,8000 ], [-6000, 8000], \"--k\")\n",
        "\n",
        "ax.set_xlabel(\"Actual\")\n",
        "ax.set_ylabel(\"Prediction\")\n",
        "#ax.set_xlim(-100, 100)\n",
        "#ax.set_ylim(-100, 100)\n",
        "plt.show()"
      ],
      "metadata": {
        "colab": {
          "base_uri": "https://localhost:8080/",
          "height": 606
        },
        "id": "lR0phpaQBMVf",
        "outputId": "6c5c9bf5-e076-46b1-da04-8ad58d6c5f1b"
      },
      "execution_count": 63,
      "outputs": [
        {
          "output_type": "display_data",
          "data": {
            "text/plain": [
              "<Figure size 720x720 with 1 Axes>"
            ],
            "image/png": "[encoded data removed]"
          },
          "metadata": {
            "needs_background": "light"
          }
        }
      ]
    },
    {
      "cell_type": "code",
      "source": [
        "# Plot Result\n",
        "fig, ax = plt.subplots(nrows=1, ncols=1, figsize=(10, 10))\n",
        "\n",
        "ax.scatter(summary_train_pred_rf[\"actual\"], summary_train_pred_rf[\"prediction\"])\n",
        "ax.plot([-6000,8000 ], [-6000, 8000], \"--k\")\n",
        "\n",
        "ax.set_xlabel(\"Actual\")\n",
        "ax.set_ylabel(\"Prediction\")\n",
        "ax.set_xlim(-100, 100)\n",
        "ax.set_ylim(-100, 100)\n",
        "plt.show()"
      ],
      "metadata": {
        "colab": {
          "base_uri": "https://localhost:8080/",
          "height": 610
        },
        "id": "Johi8FvvBZ-U",
        "outputId": "9f527e6a-49b7-4edf-b6ad-bfc523718494"
      },
      "execution_count": 64,
      "outputs": [
        {
          "output_type": "display_data",
          "data": {
            "text/plain": [
              "<Figure size 720x720 with 1 Axes>"
            ],
            "image/png": "[encoded data removed]"
          },
          "metadata": {
            "needs_background": "light"
          }
        }
      ]
    },
    {
      "cell_type": "markdown",
      "source": [
        "d. Comparison"
      ],
      "metadata": {
        "id": "dYobKgM-LxEo"
      }
    },
    {
      "cell_type": "code",
      "source": [
        "mae_train = [mae_train_baseline, mae_train_dt, mae_train_rf]\n",
        "mae_cv = [mae_train_baseline, mae_cv_dt, mae_cv_rf]\n",
        "mae_train_percentage = [1, (mae_train_dt/mae_train_baseline),(mae_train_rf/mae_train_baseline)]\n",
        "mae_cv_percentage = [1, (mae_cv_dt/mae_train_baseline),(mae_cv_rf/mae_train_baseline)]\n",
        "indexes = [\"Baseline(mean)\",\"decision tree\",\"random forest\"]\n",
        "\n",
        "summary_df = pd.DataFrame({\"MAE Train\": mae_train,\n",
        "                           \"MAE CV\": mae_cv,\n",
        "                           \"MAE% Train\": mae_train_percentage,\n",
        "                           \"MAE% CV\": mae_cv_percentage},\n",
        "                          index = indexes)\n",
        "summary_df"
      ],
      "metadata": {
        "colab": {
          "base_uri": "https://localhost:8080/",
          "height": 144
        },
        "id": "1__xEN3hLtzk",
        "outputId": "91134893-08db-43ee-e9af-8ceeb0c38211"
      },
      "execution_count": 65,
      "outputs": [
        {
          "output_type": "execute_result",
          "data": {
            "text/plain": [
              "                MAE Train     MAE CV  MAE% Train   MAE% CV\n",
              "Baseline(mean)  67.716434  67.716434    1.000000  1.000000\n",
              "decision tree   12.001428  30.895703    0.177231  0.456251\n",
              "random forest   11.774350  32.408563    0.173877  0.478592"
            ],
            "text/html": [
              "\n",
              "  <div id=\"df-9e9ea9b6-584d-43f2-b523-6aad2d6e5e3b\">\n",
              "    <div class=\"colab-df-container\">\n",
              "      <div>\n",
              "<style scoped>\n",
              "    .dataframe tbody tr th:only-of-type {\n",
              "        vertical-align: middle;\n",
              "    }\n",
              "\n",
              "    .dataframe tbody tr th {\n",
              "        vertical-align: top;\n",
              "    }\n",
              "\n",
              "    .dataframe thead th {\n",
              "        text-align: right;\n",
              "    }\n",
              "</style>\n",
              "<table border=\"1\" class=\"dataframe\">\n",
              "  <thead>\n",
              "    <tr style=\"text-align: right;\">\n",
              "      <th></th>\n",
              "      <th>MAE Train</th>\n",
              "      <th>MAE CV</th>\n",
              "      <th>MAE% Train</th>\n",
              "      <th>MAE% CV</th>\n",
              "    </tr>\n",
              "  </thead>\n",
              "  <tbody>\n",
              "    <tr>\n",
              "      <th>Baseline(mean)</th>\n",
              "      <td>67.716434</td>\n",
              "      <td>67.716434</td>\n",
              "      <td>1.000000</td>\n",
              "      <td>1.000000</td>\n",
              "    </tr>\n",
              "    <tr>\n",
              "      <th>decision tree</th>\n",
              "      <td>12.001428</td>\n",
              "      <td>30.895703</td>\n",
              "      <td>0.177231</td>\n",
              "      <td>0.456251</td>\n",
              "    </tr>\n",
              "    <tr>\n",
              "      <th>random forest</th>\n",
              "      <td>11.774350</td>\n",
              "      <td>32.408563</td>\n",
              "      <td>0.173877</td>\n",
              "      <td>0.478592</td>\n",
              "    </tr>\n",
              "  </tbody>\n",
              "</table>\n",
              "</div>\n",
              "      <button class=\"colab-df-convert\" onclick=\"convertToInteractive('df-9e9ea9b6-584d-43f2-b523-6aad2d6e5e3b')\"\n",
              "              title=\"Convert this dataframe to an interactive table.\"\n",
              "              style=\"display:none;\">\n",
              "        \n",
              "  <svg xmlns=\"http://www.w3.org/2000/svg\" height=\"24px\"viewBox=\"0 0 24 24\"\n",
              "       width=\"24px\">\n",
              "    <path d=\"M0 0h24v24H0V0z\" fill=\"none\"/>\n",
              "    <path d=\"M18.56 5.44l.94 2.06.94-2.06 2.06-.94-2.06-.94-.94-2.06-.94 2.06-2.06.94zm-11 1L8.5 8.5l.94-2.06 2.06-.94-2.06-.94L8.5 2.5l-.94 2.06-2.06.94zm10 10l.94 2.06.94-2.06 2.06-.94-2.06-.94-.94-2.06-.94 2.06-2.06.94z\"/><path d=\"M17.41 7.96l-1.37-1.37c-.4-.4-.92-.59-1.43-.59-.52 0-1.04.2-1.43.59L10.3 9.45l-7.72 7.72c-.78.78-.78 2.05 0 2.83L4 21.41c.39.39.9.59 1.41.59.51 0 1.02-.2 1.41-.59l7.78-7.78 2.81-2.81c.8-.78.8-2.07 0-2.86zM5.41 20L4 18.59l7.72-7.72 1.47 1.35L5.41 20z\"/>\n",
              "  </svg>\n",
              "      </button>\n",
              "      \n",
              "  <style>\n",
              "    .colab-df-container {\n",
              "      display:flex;\n",
              "      flex-wrap:wrap;\n",
              "      gap: 12px;\n",
              "    }\n",
              "\n",
              "    .colab-df-convert {\n",
              "      background-color: #E8F0FE;\n",
              "      border: none;\n",
              "      border-radius: 50%;\n",
              "      cursor: pointer;\n",
              "      display: none;\n",
              "      fill: #1967D2;\n",
              "      height: 32px;\n",
              "      padding: 0 0 0 0;\n",
              "      width: 32px;\n",
              "    }\n",
              "\n",
              "    .colab-df-convert:hover {\n",
              "      background-color: #E2EBFA;\n",
              "      box-shadow: 0px 1px 2px rgba(60, 64, 67, 0.3), 0px 1px 3px 1px rgba(60, 64, 67, 0.15);\n",
              "      fill: #174EA6;\n",
              "    }\n",
              "\n",
              "    [theme=dark] .colab-df-convert {\n",
              "      background-color: #3B4455;\n",
              "      fill: #D2E3FC;\n",
              "    }\n",
              "\n",
              "    [theme=dark] .colab-df-convert:hover {\n",
              "      background-color: #434B5C;\n",
              "      box-shadow: 0px 1px 3px 1px rgba(0, 0, 0, 0.15);\n",
              "      filter: drop-shadow(0px 1px 2px rgba(0, 0, 0, 0.3));\n",
              "      fill: #FFFFFF;\n",
              "    }\n",
              "  </style>\n",
              "\n",
              "      <script>\n",
              "        const buttonEl =\n",
              "          document.querySelector('#df-9e9ea9b6-584d-43f2-b523-6aad2d6e5e3b button.colab-df-convert');\n",
              "        buttonEl.style.display =\n",
              "          google.colab.kernel.accessAllowed ? 'block' : 'none';\n",
              "\n",
              "        async function convertToInteractive(key) {\n",
              "          const element = document.querySelector('#df-9e9ea9b6-584d-43f2-b523-6aad2d6e5e3b');\n",
              "          const dataTable =\n",
              "            await google.colab.kernel.invokeFunction('convertToInteractive',\n",
              "                                                     [key], {});\n",
              "          if (!dataTable) return;\n",
              "\n",
              "          const docLinkHtml = 'Like what you see? Visit the ' +\n",
              "            '<a target=\"_blank\" href=https://colab.research.google.com/notebooks/data_table.ipynb>data table notebook</a>'\n",
              "            + ' to learn more about interactive tables.';\n",
              "          element.innerHTML = '';\n",
              "          dataTable['output_type'] = 'display_data';\n",
              "          await google.colab.output.renderOutput(dataTable, element);\n",
              "          const docLink = document.createElement('div');\n",
              "          docLink.innerHTML = docLinkHtml;\n",
              "          element.appendChild(docLink);\n",
              "        }\n",
              "      </script>\n",
              "    </div>\n",
              "  </div>\n",
              "  "
            ]
          },
          "metadata": {},
          "execution_count": 65
        }
      ]
    },
    {
      "cell_type": "markdown",
      "source": [
        "Best Model - Random Forest"
      ],
      "metadata": {
        "id": "x7DkXG3bOEsl"
      }
    },
    {
      "cell_type": "markdown",
      "source": [
        "e. Predict data Test"
      ],
      "metadata": {
        "id": "s1GDMOBBOSWe"
      }
    },
    {
      "cell_type": "code",
      "source": [
        "def extractTest(data,\n",
        "                num_col, cat_col):\n",
        "    \"\"\"\n",
        "     Function to extract & clean test data\n",
        "     :param data: <pandas dataframe> sample test data\n",
        "     :param num_col: <list> numeric columns\n",
        "     :param cat_col: <list> categorical columns\n",
        "#    :param imputer_numerical: <sklearn method> imputer numeric data\n",
        "     :param standardizer: <sklearn method> standardizer data\n",
        "     :return cleaned_data: <pandas dataframe> final data\n",
        "    \"\"\"\n",
        "    # Filter data\n",
        "    data_num = data[num_col]\n",
        "    data_cat = data[cat_col]\n",
        "\n",
        "    # Process data imputer\n",
        "    data_num_imputed, imputer_num = imputerNum(data_num)\n",
        "    data_cat_imputed, imputer_cat = imputerCat(data_cat)\n",
        "\n",
        "    # Process data categoric\n",
        "    data_cat_encoded = label_encoder(data_cat_imputed, cat_col)\n",
        "\n",
        "    # Join data\n",
        "    concat_data = pd.concat([data_num_imputed, data_cat_encoded],\n",
        "                             axis = 1)\n",
        "    \n",
        "    # Standardize data\n",
        "    cleaned_data, standardizer = standardizerData(data = concat_data)\n",
        "\n",
        "    return cleaned_data\n"
      ],
      "metadata": {
        "id": "_Oppjz1uJUG6"
      },
      "execution_count": 66,
      "outputs": []
    },
    {
      "cell_type": "code",
      "source": [
        "X_test_clean = extractTest(data = X_test,\n",
        "                           num_col = numerical_col,\n",
        "                           cat_col = categorical_col)"
      ],
      "metadata": {
        "id": "WJYWhAiMRErw"
      },
      "execution_count": 67,
      "outputs": []
    },
    {
      "cell_type": "code",
      "source": [
        "X_test_clean.head()"
      ],
      "metadata": {
        "colab": {
          "base_uri": "https://localhost:8080/",
          "height": 316
        },
        "id": "oe0wFGe0Rpp4",
        "outputId": "517f94f1-0317-485f-d445-4d9e3e18e6a6"
      },
      "execution_count": 68,
      "outputs": [
        {
          "output_type": "execute_result",
          "data": {
            "text/plain": [
              "        Quantity     Sales  Discount  Order ID  Order Date  Ship Date  \\\n",
              "Row ID                                                                  \n",
              "5121    0.562011  0.033001 -0.751405 -1.292046    0.169074   0.203562   \n",
              "517    -0.365036 -0.333544 -0.751405  0.580501   -1.572892  -1.540637   \n",
              "8173   -1.292084 -0.431850 -0.751405 -1.599963    1.067170   0.834442   \n",
              "1749   -0.828560 -0.416694  0.231690  1.234641    0.104683   0.138618   \n",
              "5697    2.416105 -0.382230  3.180975  0.561349   -1.413608  -1.370547   \n",
              "\n",
              "        Ship Mode  Customer ID  Customer Name   Segment  Country      City  \\\n",
              "Row ID                                                                       \n",
              "5121     0.692353     0.093156      -1.214770 -1.280568      0.0  0.341736   \n",
              "517      0.692353    -1.658201       1.215630  1.694359      0.0 -1.078988   \n",
              "8173     0.692353    -0.426778       1.317670  1.694359      0.0 -0.703184   \n",
              "1749     0.692353    -0.919347       1.781487  1.694359      0.0 -0.162392   \n",
              "5697     0.692353    -1.612593       1.568131  1.694359      0.0  1.322495   \n",
              "\n",
              "           State    Region  Product ID  Category  Sub-Category  Product Name  \n",
              "Row ID                                                                        \n",
              "5121    0.200070 -0.127813    1.547273 -0.042681      0.631695      0.902498  \n",
              "517    -1.013226 -0.704027    1.559129 -0.042681      0.631695      0.914560  \n",
              "8173   -0.572028 -0.704027    0.392499 -0.042681      0.194727      0.154674  \n",
              "1749   -0.461728 -0.704027    0.812201 -0.042681      0.413211      0.526174  \n",
              "5697    1.413366  1.024616   -0.947228 -0.042681     -0.460726     -0.571440  "
            ],
            "text/html": [
              "\n",
              "  <div id=\"df-2d7afcc6-0c4f-4fca-b482-f4e4bb7103a5\">\n",
              "    <div class=\"colab-df-container\">\n",
              "      <div>\n",
              "<style scoped>\n",
              "    .dataframe tbody tr th:only-of-type {\n",
              "        vertical-align: middle;\n",
              "    }\n",
              "\n",
              "    .dataframe tbody tr th {\n",
              "        vertical-align: top;\n",
              "    }\n",
              "\n",
              "    .dataframe thead th {\n",
              "        text-align: right;\n",
              "    }\n",
              "</style>\n",
              "<table border=\"1\" class=\"dataframe\">\n",
              "  <thead>\n",
              "    <tr style=\"text-align: right;\">\n",
              "      <th></th>\n",
              "      <th>Quantity</th>\n",
              "      <th>Sales</th>\n",
              "      <th>Discount</th>\n",
              "      <th>Order ID</th>\n",
              "      <th>Order Date</th>\n",
              "      <th>Ship Date</th>\n",
              "      <th>Ship Mode</th>\n",
              "      <th>Customer ID</th>\n",
              "      <th>Customer Name</th>\n",
              "      <th>Segment</th>\n",
              "      <th>Country</th>\n",
              "      <th>City</th>\n",
              "      <th>State</th>\n",
              "      <th>Region</th>\n",
              "      <th>Product ID</th>\n",
              "      <th>Category</th>\n",
              "      <th>Sub-Category</th>\n",
              "      <th>Product Name</th>\n",
              "    </tr>\n",
              "    <tr>\n",
              "      <th>Row ID</th>\n",
              "      <th></th>\n",
              "      <th></th>\n",
              "      <th></th>\n",
              "      <th></th>\n",
              "      <th></th>\n",
              "      <th></th>\n",
              "      <th></th>\n",
              "      <th></th>\n",
              "      <th></th>\n",
              "      <th></th>\n",
              "      <th></th>\n",
              "      <th></th>\n",
              "      <th></th>\n",
              "      <th></th>\n",
              "      <th></th>\n",
              "      <th></th>\n",
              "      <th></th>\n",
              "      <th></th>\n",
              "    </tr>\n",
              "  </thead>\n",
              "  <tbody>\n",
              "    <tr>\n",
              "      <th>5121</th>\n",
              "      <td>0.562011</td>\n",
              "      <td>0.033001</td>\n",
              "      <td>-0.751405</td>\n",
              "      <td>-1.292046</td>\n",
              "      <td>0.169074</td>\n",
              "      <td>0.203562</td>\n",
              "      <td>0.692353</td>\n",
              "      <td>0.093156</td>\n",
              "      <td>-1.214770</td>\n",
              "      <td>-1.280568</td>\n",
              "      <td>0.0</td>\n",
              "      <td>0.341736</td>\n",
              "      <td>0.200070</td>\n",
              "      <td>-0.127813</td>\n",
              "      <td>1.547273</td>\n",
              "      <td>-0.042681</td>\n",
              "      <td>0.631695</td>\n",
              "      <td>0.902498</td>\n",
              "    </tr>\n",
              "    <tr>\n",
              "      <th>517</th>\n",
              "      <td>-0.365036</td>\n",
              "      <td>-0.333544</td>\n",
              "      <td>-0.751405</td>\n",
              "      <td>0.580501</td>\n",
              "      <td>-1.572892</td>\n",
              "      <td>-1.540637</td>\n",
              "      <td>0.692353</td>\n",
              "      <td>-1.658201</td>\n",
              "      <td>1.215630</td>\n",
              "      <td>1.694359</td>\n",
              "      <td>0.0</td>\n",
              "      <td>-1.078988</td>\n",
              "      <td>-1.013226</td>\n",
              "      <td>-0.704027</td>\n",
              "      <td>1.559129</td>\n",
              "      <td>-0.042681</td>\n",
              "      <td>0.631695</td>\n",
              "      <td>0.914560</td>\n",
              "    </tr>\n",
              "    <tr>\n",
              "      <th>8173</th>\n",
              "      <td>-1.292084</td>\n",
              "      <td>-0.431850</td>\n",
              "      <td>-0.751405</td>\n",
              "      <td>-1.599963</td>\n",
              "      <td>1.067170</td>\n",
              "      <td>0.834442</td>\n",
              "      <td>0.692353</td>\n",
              "      <td>-0.426778</td>\n",
              "      <td>1.317670</td>\n",
              "      <td>1.694359</td>\n",
              "      <td>0.0</td>\n",
              "      <td>-0.703184</td>\n",
              "      <td>-0.572028</td>\n",
              "      <td>-0.704027</td>\n",
              "      <td>0.392499</td>\n",
              "      <td>-0.042681</td>\n",
              "      <td>0.194727</td>\n",
              "      <td>0.154674</td>\n",
              "    </tr>\n",
              "    <tr>\n",
              "      <th>1749</th>\n",
              "      <td>-0.828560</td>\n",
              "      <td>-0.416694</td>\n",
              "      <td>0.231690</td>\n",
              "      <td>1.234641</td>\n",
              "      <td>0.104683</td>\n",
              "      <td>0.138618</td>\n",
              "      <td>0.692353</td>\n",
              "      <td>-0.919347</td>\n",
              "      <td>1.781487</td>\n",
              "      <td>1.694359</td>\n",
              "      <td>0.0</td>\n",
              "      <td>-0.162392</td>\n",
              "      <td>-0.461728</td>\n",
              "      <td>-0.704027</td>\n",
              "      <td>0.812201</td>\n",
              "      <td>-0.042681</td>\n",
              "      <td>0.413211</td>\n",
              "      <td>0.526174</td>\n",
              "    </tr>\n",
              "    <tr>\n",
              "      <th>5697</th>\n",
              "      <td>2.416105</td>\n",
              "      <td>-0.382230</td>\n",
              "      <td>3.180975</td>\n",
              "      <td>0.561349</td>\n",
              "      <td>-1.413608</td>\n",
              "      <td>-1.370547</td>\n",
              "      <td>0.692353</td>\n",
              "      <td>-1.612593</td>\n",
              "      <td>1.568131</td>\n",
              "      <td>1.694359</td>\n",
              "      <td>0.0</td>\n",
              "      <td>1.322495</td>\n",
              "      <td>1.413366</td>\n",
              "      <td>1.024616</td>\n",
              "      <td>-0.947228</td>\n",
              "      <td>-0.042681</td>\n",
              "      <td>-0.460726</td>\n",
              "      <td>-0.571440</td>\n",
              "    </tr>\n",
              "  </tbody>\n",
              "</table>\n",
              "</div>\n",
              "      <button class=\"colab-df-convert\" onclick=\"convertToInteractive('df-2d7afcc6-0c4f-4fca-b482-f4e4bb7103a5')\"\n",
              "              title=\"Convert this dataframe to an interactive table.\"\n",
              "              style=\"display:none;\">\n",
              "        \n",
              "  <svg xmlns=\"http://www.w3.org/2000/svg\" height=\"24px\"viewBox=\"0 0 24 24\"\n",
              "       width=\"24px\">\n",
              "    <path d=\"M0 0h24v24H0V0z\" fill=\"none\"/>\n",
              "    <path d=\"M18.56 5.44l.94 2.06.94-2.06 2.06-.94-2.06-.94-.94-2.06-.94 2.06-2.06.94zm-11 1L8.5 8.5l.94-2.06 2.06-.94-2.06-.94L8.5 2.5l-.94 2.06-2.06.94zm10 10l.94 2.06.94-2.06 2.06-.94-2.06-.94-.94-2.06-.94 2.06-2.06.94z\"/><path d=\"M17.41 7.96l-1.37-1.37c-.4-.4-.92-.59-1.43-.59-.52 0-1.04.2-1.43.59L10.3 9.45l-7.72 7.72c-.78.78-.78 2.05 0 2.83L4 21.41c.39.39.9.59 1.41.59.51 0 1.02-.2 1.41-.59l7.78-7.78 2.81-2.81c.8-.78.8-2.07 0-2.86zM5.41 20L4 18.59l7.72-7.72 1.47 1.35L5.41 20z\"/>\n",
              "  </svg>\n",
              "      </button>\n",
              "      \n",
              "  <style>\n",
              "    .colab-df-container {\n",
              "      display:flex;\n",
              "      flex-wrap:wrap;\n",
              "      gap: 12px;\n",
              "    }\n",
              "\n",
              "    .colab-df-convert {\n",
              "      background-color: #E8F0FE;\n",
              "      border: none;\n",
              "      border-radius: 50%;\n",
              "      cursor: pointer;\n",
              "      display: none;\n",
              "      fill: #1967D2;\n",
              "      height: 32px;\n",
              "      padding: 0 0 0 0;\n",
              "      width: 32px;\n",
              "    }\n",
              "\n",
              "    .colab-df-convert:hover {\n",
              "      background-color: #E2EBFA;\n",
              "      box-shadow: 0px 1px 2px rgba(60, 64, 67, 0.3), 0px 1px 3px 1px rgba(60, 64, 67, 0.15);\n",
              "      fill: #174EA6;\n",
              "    }\n",
              "\n",
              "    [theme=dark] .colab-df-convert {\n",
              "      background-color: #3B4455;\n",
              "      fill: #D2E3FC;\n",
              "    }\n",
              "\n",
              "    [theme=dark] .colab-df-convert:hover {\n",
              "      background-color: #434B5C;\n",
              "      box-shadow: 0px 1px 3px 1px rgba(0, 0, 0, 0.15);\n",
              "      filter: drop-shadow(0px 1px 2px rgba(0, 0, 0, 0.3));\n",
              "      fill: #FFFFFF;\n",
              "    }\n",
              "  </style>\n",
              "\n",
              "      <script>\n",
              "        const buttonEl =\n",
              "          document.querySelector('#df-2d7afcc6-0c4f-4fca-b482-f4e4bb7103a5 button.colab-df-convert');\n",
              "        buttonEl.style.display =\n",
              "          google.colab.kernel.accessAllowed ? 'block' : 'none';\n",
              "\n",
              "        async function convertToInteractive(key) {\n",
              "          const element = document.querySelector('#df-2d7afcc6-0c4f-4fca-b482-f4e4bb7103a5');\n",
              "          const dataTable =\n",
              "            await google.colab.kernel.invokeFunction('convertToInteractive',\n",
              "                                                     [key], {});\n",
              "          if (!dataTable) return;\n",
              "\n",
              "          const docLinkHtml = 'Like what you see? Visit the ' +\n",
              "            '<a target=\"_blank\" href=https://colab.research.google.com/notebooks/data_table.ipynb>data table notebook</a>'\n",
              "            + ' to learn more about interactive tables.';\n",
              "          element.innerHTML = '';\n",
              "          dataTable['output_type'] = 'display_data';\n",
              "          await google.colab.output.renderOutput(dataTable, element);\n",
              "          const docLink = document.createElement('div');\n",
              "          docLink.innerHTML = docLinkHtml;\n",
              "          element.appendChild(docLink);\n",
              "        }\n",
              "      </script>\n",
              "    </div>\n",
              "  </div>\n",
              "  "
            ]
          },
          "metadata": {},
          "execution_count": 68
        }
      ]
    },
    {
      "cell_type": "code",
      "source": [
        "# Predict MAE\n",
        "y_pred_test = rf_tree.predict(X_test_clean)\n",
        "\n",
        "mae_test = mean_absolute_error(y_test, y_pred_test)\n",
        "\n",
        "print(f\"MAE Test RF       :{mae_test:.4f}\")\n",
        "print(f\"MAE Test Baseline :{mae_test_baseline:.4f}\")\n",
        "print(f\"MAE Test %        :{(mae_test/mae_test_baseline):.4f}\")"
      ],
      "metadata": {
        "colab": {
          "base_uri": "https://localhost:8080/"
        },
        "id": "h9rP9X4iRzxX",
        "outputId": "e25caebb-7533-4065-e171-5ebe9436064c"
      },
      "execution_count": 69,
      "outputs": [
        {
          "output_type": "stream",
          "name": "stdout",
          "text": [
            "MAE Test RF       :28.5898\n",
            "MAE Test Baseline :56.4897\n",
            "MAE Test %        :0.5061\n"
          ]
        }
      ]
    },
    {
      "cell_type": "code",
      "source": [
        "print(f\"MAE Test RF       :{mae_test:.4f}\")\n",
        "print(f\"MAE CV RF         :{mae_cv_rf:.4f}\")\n",
        "print(f\"MAE GAP %         :{1-(mae_test/mae_cv_rf):.4f}\")"
      ],
      "metadata": {
        "colab": {
          "base_uri": "https://localhost:8080/"
        },
        "id": "MlJK0CL5l0EC",
        "outputId": "2b6f92ad-1801-4687-f451-5f6e08115940"
      },
      "execution_count": 70,
      "outputs": [
        {
          "output_type": "stream",
          "name": "stdout",
          "text": [
            "MAE Test RF       :28.5898\n",
            "MAE CV RF         :32.4086\n",
            "MAE GAP %         :0.1178\n"
          ]
        }
      ]
    },
    {
      "cell_type": "code",
      "source": [
        "summary_test_pred_rf = pd.DataFrame({\"actual\": y_test,\n",
        "                                   \"prediction\": y_pred_test})\n",
        "\n",
        "summary_test_pred_rf.head()"
      ],
      "metadata": {
        "colab": {
          "base_uri": "https://localhost:8080/",
          "height": 238
        },
        "id": "jAdRlWq-M7Wz",
        "outputId": "535dd1ae-0edc-4853-e61a-ba153c8927f8"
      },
      "execution_count": 71,
      "outputs": [
        {
          "output_type": "execute_result",
          "data": {
            "text/plain": [
              "         actual  prediction\n",
              "Row ID                     \n",
              "5121     9.3020   37.746864\n",
              "517     13.8915    9.599259\n",
              "8173     1.4112    4.321644\n",
              "1749     3.6288    7.927003\n",
              "5697   -42.4638  -32.863182"
            ],
            "text/html": [
              "\n",
              "  <div id=\"df-b599e98d-4542-4497-9230-d1e199e7c818\">\n",
              "    <div class=\"colab-df-container\">\n",
              "      <div>\n",
              "<style scoped>\n",
              "    .dataframe tbody tr th:only-of-type {\n",
              "        vertical-align: middle;\n",
              "    }\n",
              "\n",
              "    .dataframe tbody tr th {\n",
              "        vertical-align: top;\n",
              "    }\n",
              "\n",
              "    .dataframe thead th {\n",
              "        text-align: right;\n",
              "    }\n",
              "</style>\n",
              "<table border=\"1\" class=\"dataframe\">\n",
              "  <thead>\n",
              "    <tr style=\"text-align: right;\">\n",
              "      <th></th>\n",
              "      <th>actual</th>\n",
              "      <th>prediction</th>\n",
              "    </tr>\n",
              "    <tr>\n",
              "      <th>Row ID</th>\n",
              "      <th></th>\n",
              "      <th></th>\n",
              "    </tr>\n",
              "  </thead>\n",
              "  <tbody>\n",
              "    <tr>\n",
              "      <th>5121</th>\n",
              "      <td>9.3020</td>\n",
              "      <td>37.746864</td>\n",
              "    </tr>\n",
              "    <tr>\n",
              "      <th>517</th>\n",
              "      <td>13.8915</td>\n",
              "      <td>9.599259</td>\n",
              "    </tr>\n",
              "    <tr>\n",
              "      <th>8173</th>\n",
              "      <td>1.4112</td>\n",
              "      <td>4.321644</td>\n",
              "    </tr>\n",
              "    <tr>\n",
              "      <th>1749</th>\n",
              "      <td>3.6288</td>\n",
              "      <td>7.927003</td>\n",
              "    </tr>\n",
              "    <tr>\n",
              "      <th>5697</th>\n",
              "      <td>-42.4638</td>\n",
              "      <td>-32.863182</td>\n",
              "    </tr>\n",
              "  </tbody>\n",
              "</table>\n",
              "</div>\n",
              "      <button class=\"colab-df-convert\" onclick=\"convertToInteractive('df-b599e98d-4542-4497-9230-d1e199e7c818')\"\n",
              "              title=\"Convert this dataframe to an interactive table.\"\n",
              "              style=\"display:none;\">\n",
              "        \n",
              "  <svg xmlns=\"http://www.w3.org/2000/svg\" height=\"24px\"viewBox=\"0 0 24 24\"\n",
              "       width=\"24px\">\n",
              "    <path d=\"M0 0h24v24H0V0z\" fill=\"none\"/>\n",
              "    <path d=\"M18.56 5.44l.94 2.06.94-2.06 2.06-.94-2.06-.94-.94-2.06-.94 2.06-2.06.94zm-11 1L8.5 8.5l.94-2.06 2.06-.94-2.06-.94L8.5 2.5l-.94 2.06-2.06.94zm10 10l.94 2.06.94-2.06 2.06-.94-2.06-.94-.94-2.06-.94 2.06-2.06.94z\"/><path d=\"M17.41 7.96l-1.37-1.37c-.4-.4-.92-.59-1.43-.59-.52 0-1.04.2-1.43.59L10.3 9.45l-7.72 7.72c-.78.78-.78 2.05 0 2.83L4 21.41c.39.39.9.59 1.41.59.51 0 1.02-.2 1.41-.59l7.78-7.78 2.81-2.81c.8-.78.8-2.07 0-2.86zM5.41 20L4 18.59l7.72-7.72 1.47 1.35L5.41 20z\"/>\n",
              "  </svg>\n",
              "      </button>\n",
              "      \n",
              "  <style>\n",
              "    .colab-df-container {\n",
              "      display:flex;\n",
              "      flex-wrap:wrap;\n",
              "      gap: 12px;\n",
              "    }\n",
              "\n",
              "    .colab-df-convert {\n",
              "      background-color: #E8F0FE;\n",
              "      border: none;\n",
              "      border-radius: 50%;\n",
              "      cursor: pointer;\n",
              "      display: none;\n",
              "      fill: #1967D2;\n",
              "      height: 32px;\n",
              "      padding: 0 0 0 0;\n",
              "      width: 32px;\n",
              "    }\n",
              "\n",
              "    .colab-df-convert:hover {\n",
              "      background-color: #E2EBFA;\n",
              "      box-shadow: 0px 1px 2px rgba(60, 64, 67, 0.3), 0px 1px 3px 1px rgba(60, 64, 67, 0.15);\n",
              "      fill: #174EA6;\n",
              "    }\n",
              "\n",
              "    [theme=dark] .colab-df-convert {\n",
              "      background-color: #3B4455;\n",
              "      fill: #D2E3FC;\n",
              "    }\n",
              "\n",
              "    [theme=dark] .colab-df-convert:hover {\n",
              "      background-color: #434B5C;\n",
              "      box-shadow: 0px 1px 3px 1px rgba(0, 0, 0, 0.15);\n",
              "      filter: drop-shadow(0px 1px 2px rgba(0, 0, 0, 0.3));\n",
              "      fill: #FFFFFF;\n",
              "    }\n",
              "  </style>\n",
              "\n",
              "      <script>\n",
              "        const buttonEl =\n",
              "          document.querySelector('#df-b599e98d-4542-4497-9230-d1e199e7c818 button.colab-df-convert');\n",
              "        buttonEl.style.display =\n",
              "          google.colab.kernel.accessAllowed ? 'block' : 'none';\n",
              "\n",
              "        async function convertToInteractive(key) {\n",
              "          const element = document.querySelector('#df-b599e98d-4542-4497-9230-d1e199e7c818');\n",
              "          const dataTable =\n",
              "            await google.colab.kernel.invokeFunction('convertToInteractive',\n",
              "                                                     [key], {});\n",
              "          if (!dataTable) return;\n",
              "\n",
              "          const docLinkHtml = 'Like what you see? Visit the ' +\n",
              "            '<a target=\"_blank\" href=https://colab.research.google.com/notebooks/data_table.ipynb>data table notebook</a>'\n",
              "            + ' to learn more about interactive tables.';\n",
              "          element.innerHTML = '';\n",
              "          dataTable['output_type'] = 'display_data';\n",
              "          await google.colab.output.renderOutput(dataTable, element);\n",
              "          const docLink = document.createElement('div');\n",
              "          docLink.innerHTML = docLinkHtml;\n",
              "          element.appendChild(docLink);\n",
              "        }\n",
              "      </script>\n",
              "    </div>\n",
              "  </div>\n",
              "  "
            ]
          },
          "metadata": {},
          "execution_count": 71
        }
      ]
    },
    {
      "cell_type": "code",
      "source": [
        "# Plot Result\n",
        "fig, ax = plt.subplots(nrows=1, ncols=1, figsize=(10, 10))\n",
        "\n",
        "plt.scatter(y_test, y_pred_test)\n",
        "ax.plot([-6000,8000 ], [-6000, 8000], \"--k\")\n",
        "\n",
        "ax.set_xlabel(\"Actual\")\n",
        "ax.set_ylabel(\"Prediction\")\n",
        "#ax.set_xlim(-100, 100)\n",
        "#ax.set_ylim(-100, 100)\n",
        "plt.show()"
      ],
      "metadata": {
        "colab": {
          "base_uri": "https://localhost:8080/",
          "height": 606
        },
        "id": "0JmQnGp3S5S9",
        "outputId": "341ec57b-00c1-4f06-d2b1-df840c242d1e"
      },
      "execution_count": 72,
      "outputs": [
        {
          "output_type": "display_data",
          "data": {
            "text/plain": [
              "<Figure size 720x720 with 1 Axes>"
            ],
            "image/png": "[encoded data removed]"
          },
          "metadata": {
            "needs_background": "light"
          }
        }
      ]
    },
    {
      "cell_type": "code",
      "source": [
        "# Plot Result\n",
        "fig, ax = plt.subplots(nrows=1, ncols=1, figsize=(10, 10))\n",
        "\n",
        "plt.scatter(y_test, y_pred_test)\n",
        "ax.plot([-6000,8000 ], [-6000, 8000], \"--k\")\n",
        "\n",
        "ax.set_xlabel(\"Actual\")\n",
        "ax.set_ylabel(\"Prediction\")\n",
        "ax.set_xlim(-100, 100)\n",
        "ax.set_ylim(-100, 100)\n",
        "plt.show()"
      ],
      "metadata": {
        "colab": {
          "base_uri": "https://localhost:8080/",
          "height": 610
        },
        "id": "f-KbsllhT99C",
        "outputId": "737763d8-549f-43f3-de5e-5ff1159b34fc"
      },
      "execution_count": 73,
      "outputs": [
        {
          "output_type": "display_data",
          "data": {
            "text/plain": [
              "<Figure size 720x720 with 1 Axes>"
            ],
            "image/png": "[encoded data removed]"
          },
          "metadata": {
            "needs_background": "light"
          }
        }
      ]
    },
    {
      "cell_type": "code",
      "source": [
        "profit_deviation = np.abs(y_test - y_pred_test)\n",
        "\n",
        "fig, ax = plt.subplots(nrows=1, ncols=1, figsize=(10, 10))\n",
        "plt.scatter(y_test, profit_deviation)\n",
        "plt.xlabel(\"actual profit\")\n",
        "plt.ylabel(\"profit deviation\")\n",
        "ax.set_xlim(-250, 250)\n",
        "ax.set_ylim(0, 250)\n",
        "plt.show()"
      ],
      "metadata": {
        "colab": {
          "base_uri": "https://localhost:8080/",
          "height": 610
        },
        "id": "CgwwWCwXUEIy",
        "outputId": "374e7617-8bc2-4520-aab7-724700323fc2"
      },
      "execution_count": 74,
      "outputs": [
        {
          "output_type": "display_data",
          "data": {
            "text/plain": [
              "<Figure size 720x720 with 1 Axes>"
            ],
            "image/png": "[encoded data removed]"
          },
          "metadata": {
            "needs_background": "light"
          }
        }
      ]
    },
    {
      "cell_type": "markdown",
      "source": [
        "Observation\n",
        "\n",
        "The model performance is good when predicting profit data in the minus 250 - 250 range\n",
        "On top of that, the performance of the model drops.\n",
        "\n",
        "Action\n",
        "\n",
        "EDA data with a high profit/loss.\n",
        "Decide whether to filter outliers or look for additional data so you can learn data with high profit/loss."
      ],
      "metadata": {
        "id": "FDUQPYpvVIKN"
      }
    },
    {
      "cell_type": "code",
      "source": [],
      "metadata": {
        "id": "jb0Fb8acUWt4"
      },
      "execution_count": null,
      "outputs": []
    },
    {
      "cell_type": "code",
      "source": [],
      "metadata": {
        "id": "RK6IrDL8WkuS"
      },
      "execution_count": null,
      "outputs": []
    },
    {
      "cell_type": "code",
      "source": [],
      "metadata": {
        "id": "f3TgMRZ9Wkks"
      },
      "execution_count": null,
      "outputs": []
    },
    {
      "cell_type": "markdown",
      "source": [
        "Testing Decision Tree"
      ],
      "metadata": {
        "id": "HJBeK81VWlcd"
      }
    },
    {
      "cell_type": "code",
      "source": [
        "# Predict MAE\n",
        "y_pred_test_xxx = tree.predict(X_test_clean)\n",
        "\n",
        "mae_test_xxx = mean_absolute_error(y_test, y_pred_test_xxx)\n",
        "\n",
        "print(f\"MAE Test DT       :{mae_test_xxx:.4f}\")\n",
        "print(f\"MAE Test Baseline :{mae_test_baseline:.4f}\")\n",
        "print(f\"MAE Test %        :{(mae_test_xxx/mae_test_baseline):.4f}\")"
      ],
      "metadata": {
        "colab": {
          "base_uri": "https://localhost:8080/"
        },
        "outputId": "33f38702-8cdd-49a8-84d2-308a183b7b15",
        "id": "MehMgGp8V6PV"
      },
      "execution_count": 75,
      "outputs": [
        {
          "output_type": "stream",
          "name": "stdout",
          "text": [
            "MAE Test DT       :33.6651\n",
            "MAE Test Baseline :56.4897\n",
            "MAE Test %        :0.5960\n"
          ]
        }
      ]
    },
    {
      "cell_type": "code",
      "source": [
        "summary_test_pred_dt = pd.DataFrame({\"actual\": y_test,\n",
        "                                   \"prediction\": y_pred_test_xxx})\n",
        "\n",
        "summary_test_pred_dt.head()"
      ],
      "metadata": {
        "colab": {
          "base_uri": "https://localhost:8080/",
          "height": 238
        },
        "id": "mUAjzY3DNO25",
        "outputId": "a6e2e698-e5d8-458d-cb3d-3ba15a1e281e"
      },
      "execution_count": 76,
      "outputs": [
        {
          "output_type": "execute_result",
          "data": {
            "text/plain": [
              "         actual  prediction\n",
              "Row ID                     \n",
              "5121     9.3020   30.206272\n",
              "517     13.8915    3.388130\n",
              "8173     1.4112    1.008632\n",
              "1749     3.6288    1.008632\n",
              "5697   -42.4638   -4.973000"
            ],
            "text/html": [
              "\n",
              "  <div id=\"df-ef813a0a-1e25-41c4-9966-b38522c778ab\">\n",
              "    <div class=\"colab-df-container\">\n",
              "      <div>\n",
              "<style scoped>\n",
              "    .dataframe tbody tr th:only-of-type {\n",
              "        vertical-align: middle;\n",
              "    }\n",
              "\n",
              "    .dataframe tbody tr th {\n",
              "        vertical-align: top;\n",
              "    }\n",
              "\n",
              "    .dataframe thead th {\n",
              "        text-align: right;\n",
              "    }\n",
              "</style>\n",
              "<table border=\"1\" class=\"dataframe\">\n",
              "  <thead>\n",
              "    <tr style=\"text-align: right;\">\n",
              "      <th></th>\n",
              "      <th>actual</th>\n",
              "      <th>prediction</th>\n",
              "    </tr>\n",
              "    <tr>\n",
              "      <th>Row ID</th>\n",
              "      <th></th>\n",
              "      <th></th>\n",
              "    </tr>\n",
              "  </thead>\n",
              "  <tbody>\n",
              "    <tr>\n",
              "      <th>5121</th>\n",
              "      <td>9.3020</td>\n",
              "      <td>30.206272</td>\n",
              "    </tr>\n",
              "    <tr>\n",
              "      <th>517</th>\n",
              "      <td>13.8915</td>\n",
              "      <td>3.388130</td>\n",
              "    </tr>\n",
              "    <tr>\n",
              "      <th>8173</th>\n",
              "      <td>1.4112</td>\n",
              "      <td>1.008632</td>\n",
              "    </tr>\n",
              "    <tr>\n",
              "      <th>1749</th>\n",
              "      <td>3.6288</td>\n",
              "      <td>1.008632</td>\n",
              "    </tr>\n",
              "    <tr>\n",
              "      <th>5697</th>\n",
              "      <td>-42.4638</td>\n",
              "      <td>-4.973000</td>\n",
              "    </tr>\n",
              "  </tbody>\n",
              "</table>\n",
              "</div>\n",
              "      <button class=\"colab-df-convert\" onclick=\"convertToInteractive('df-ef813a0a-1e25-41c4-9966-b38522c778ab')\"\n",
              "              title=\"Convert this dataframe to an interactive table.\"\n",
              "              style=\"display:none;\">\n",
              "        \n",
              "  <svg xmlns=\"http://www.w3.org/2000/svg\" height=\"24px\"viewBox=\"0 0 24 24\"\n",
              "       width=\"24px\">\n",
              "    <path d=\"M0 0h24v24H0V0z\" fill=\"none\"/>\n",
              "    <path d=\"M18.56 5.44l.94 2.06.94-2.06 2.06-.94-2.06-.94-.94-2.06-.94 2.06-2.06.94zm-11 1L8.5 8.5l.94-2.06 2.06-.94-2.06-.94L8.5 2.5l-.94 2.06-2.06.94zm10 10l.94 2.06.94-2.06 2.06-.94-2.06-.94-.94-2.06-.94 2.06-2.06.94z\"/><path d=\"M17.41 7.96l-1.37-1.37c-.4-.4-.92-.59-1.43-.59-.52 0-1.04.2-1.43.59L10.3 9.45l-7.72 7.72c-.78.78-.78 2.05 0 2.83L4 21.41c.39.39.9.59 1.41.59.51 0 1.02-.2 1.41-.59l7.78-7.78 2.81-2.81c.8-.78.8-2.07 0-2.86zM5.41 20L4 18.59l7.72-7.72 1.47 1.35L5.41 20z\"/>\n",
              "  </svg>\n",
              "      </button>\n",
              "      \n",
              "  <style>\n",
              "    .colab-df-container {\n",
              "      display:flex;\n",
              "      flex-wrap:wrap;\n",
              "      gap: 12px;\n",
              "    }\n",
              "\n",
              "    .colab-df-convert {\n",
              "      background-color: #E8F0FE;\n",
              "      border: none;\n",
              "      border-radius: 50%;\n",
              "      cursor: pointer;\n",
              "      display: none;\n",
              "      fill: #1967D2;\n",
              "      height: 32px;\n",
              "      padding: 0 0 0 0;\n",
              "      width: 32px;\n",
              "    }\n",
              "\n",
              "    .colab-df-convert:hover {\n",
              "      background-color: #E2EBFA;\n",
              "      box-shadow: 0px 1px 2px rgba(60, 64, 67, 0.3), 0px 1px 3px 1px rgba(60, 64, 67, 0.15);\n",
              "      fill: #174EA6;\n",
              "    }\n",
              "\n",
              "    [theme=dark] .colab-df-convert {\n",
              "      background-color: #3B4455;\n",
              "      fill: #D2E3FC;\n",
              "    }\n",
              "\n",
              "    [theme=dark] .colab-df-convert:hover {\n",
              "      background-color: #434B5C;\n",
              "      box-shadow: 0px 1px 3px 1px rgba(0, 0, 0, 0.15);\n",
              "      filter: drop-shadow(0px 1px 2px rgba(0, 0, 0, 0.3));\n",
              "      fill: #FFFFFF;\n",
              "    }\n",
              "  </style>\n",
              "\n",
              "      <script>\n",
              "        const buttonEl =\n",
              "          document.querySelector('#df-ef813a0a-1e25-41c4-9966-b38522c778ab button.colab-df-convert');\n",
              "        buttonEl.style.display =\n",
              "          google.colab.kernel.accessAllowed ? 'block' : 'none';\n",
              "\n",
              "        async function convertToInteractive(key) {\n",
              "          const element = document.querySelector('#df-ef813a0a-1e25-41c4-9966-b38522c778ab');\n",
              "          const dataTable =\n",
              "            await google.colab.kernel.invokeFunction('convertToInteractive',\n",
              "                                                     [key], {});\n",
              "          if (!dataTable) return;\n",
              "\n",
              "          const docLinkHtml = 'Like what you see? Visit the ' +\n",
              "            '<a target=\"_blank\" href=https://colab.research.google.com/notebooks/data_table.ipynb>data table notebook</a>'\n",
              "            + ' to learn more about interactive tables.';\n",
              "          element.innerHTML = '';\n",
              "          dataTable['output_type'] = 'display_data';\n",
              "          await google.colab.output.renderOutput(dataTable, element);\n",
              "          const docLink = document.createElement('div');\n",
              "          docLink.innerHTML = docLinkHtml;\n",
              "          element.appendChild(docLink);\n",
              "        }\n",
              "      </script>\n",
              "    </div>\n",
              "  </div>\n",
              "  "
            ]
          },
          "metadata": {},
          "execution_count": 76
        }
      ]
    },
    {
      "cell_type": "code",
      "source": [
        "# Plot Result\n",
        "fig, ax = plt.subplots(nrows=1, ncols=1, figsize=(10, 10))\n",
        "\n",
        "plt.scatter(y_test, y_pred_test_xxx)\n",
        "ax.plot([-6000,8000 ], [-6000, 8000], \"--k\")\n",
        "\n",
        "ax.set_xlabel(\"Actual\")\n",
        "ax.set_ylabel(\"Prediction\")\n",
        "#ax.set_xlim(-100, 100)\n",
        "#ax.set_ylim(-100, 100)\n",
        "plt.show()"
      ],
      "metadata": {
        "colab": {
          "base_uri": "https://localhost:8080/",
          "height": 606
        },
        "outputId": "dc6bc705-180e-4924-cc32-2a44b75a3f3f",
        "id": "m6gGqv6HV6PV"
      },
      "execution_count": 77,
      "outputs": [
        {
          "output_type": "display_data",
          "data": {
            "text/plain": [
              "<Figure size 720x720 with 1 Axes>"
            ],
            "image/png": "[encoded data removed]"
          },
          "metadata": {
            "needs_background": "light"
          }
        }
      ]
    },
    {
      "cell_type": "code",
      "source": [
        "# Plot Result\n",
        "fig, ax = plt.subplots(nrows=1, ncols=1, figsize=(10, 10))\n",
        "\n",
        "plt.scatter(y_test, y_pred_test_xxx)\n",
        "ax.plot([-6000,8000 ], [-6000, 8000], \"--k\")\n",
        "\n",
        "ax.set_xlabel(\"Actual\")\n",
        "ax.set_ylabel(\"Prediction\")\n",
        "ax.set_xlim(-100, 100)\n",
        "ax.set_ylim(-100, 100)\n",
        "plt.show()"
      ],
      "metadata": {
        "colab": {
          "base_uri": "https://localhost:8080/",
          "height": 610
        },
        "outputId": "0eaffdc4-e382-4f97-f2ad-4650dfa0a89a",
        "id": "lbDSVpxYV6PV"
      },
      "execution_count": 78,
      "outputs": [
        {
          "output_type": "display_data",
          "data": {
            "text/plain": [
              "<Figure size 720x720 with 1 Axes>"
            ],
            "image/png": "[encoded data removed]"
          },
          "metadata": {
            "needs_background": "light"
          }
        }
      ]
    },
    {
      "cell_type": "code",
      "source": [
        "# Plot Result\n",
        "fig, ax = plt.subplots(nrows=1, ncols=1, figsize=(10, 10))\n",
        "\n",
        "plt.scatter(y_test, y_pred_test_xxx)\n",
        "ax.plot([-6000,8000 ], [-6000, 8000], \"--k\")\n",
        "\n",
        "ax.set_xlabel(\"Actual\")\n",
        "ax.set_ylabel(\"Prediction\")\n",
        "ax.set_xlim(-25, 25)\n",
        "ax.set_ylim(-25, 25)\n",
        "plt.show()"
      ],
      "metadata": {
        "colab": {
          "base_uri": "https://localhost:8080/",
          "height": 606
        },
        "id": "GxeKrlf9N3Nr",
        "outputId": "6f39a497-1176-41f1-a614-de01d4427515"
      },
      "execution_count": 79,
      "outputs": [
        {
          "output_type": "display_data",
          "data": {
            "text/plain": [
              "<Figure size 720x720 with 1 Axes>"
            ],
            "image/png": "[encoded data removed]"
          },
          "metadata": {
            "needs_background": "light"
          }
        }
      ]
    },
    {
      "cell_type": "code",
      "source": [
        "profit_deviation_xxx = np.abs(y_test - y_pred_test_xxx)\n",
        "\n",
        "fig, ax = plt.subplots(nrows=1, ncols=1, figsize=(10, 10))\n",
        "plt.scatter(y_test, profit_deviation_xxx)\n",
        "plt.xlabel(\"actual profit\")\n",
        "plt.ylabel(\"profit deviation\")\n",
        "ax.set_xlim(-250, 250)\n",
        "ax.set_ylim(0, 250)\n",
        "plt.show()"
      ],
      "metadata": {
        "colab": {
          "base_uri": "https://localhost:8080/",
          "height": 610
        },
        "outputId": "ac21ec11-af90-4840-8226-7818e7645ebf",
        "id": "YvBd3S48V6PV"
      },
      "execution_count": 80,
      "outputs": [
        {
          "output_type": "display_data",
          "data": {
            "text/plain": [
              "<Figure size 720x720 with 1 Axes>"
            ],
            "image/png": "[encoded data removed]"
          },
          "metadata": {
            "needs_background": "light"
          }
        }
      ]
    },
    {
      "cell_type": "code",
      "source": [],
      "metadata": {
        "id": "n3b6-hjhZTqh"
      },
      "execution_count": 80,
      "outputs": []
    },
    {
      "cell_type": "code",
      "source": [],
      "metadata": {
        "id": "t6qoUI4XZTk5"
      },
      "execution_count": 80,
      "outputs": []
    },
    {
      "cell_type": "code",
      "source": [],
      "metadata": {
        "id": "vgMjAAYCZTbz"
      },
      "execution_count": 80,
      "outputs": []
    },
    {
      "cell_type": "markdown",
      "source": [
        "Plotting Data baseline"
      ],
      "metadata": {
        "id": "gdO5he7tZUHc"
      }
    },
    {
      "cell_type": "code",
      "source": [
        "y_pred_test_yyy = y_pred_baseline * np.ones(len(y_test))"
      ],
      "metadata": {
        "id": "ut6BXz04Yp9K"
      },
      "execution_count": 81,
      "outputs": []
    },
    {
      "cell_type": "code",
      "source": [
        "# Plot Result\n",
        "fig, ax = plt.subplots(nrows=1, ncols=1, figsize=(10, 10))\n",
        "\n",
        "plt.scatter(y_test, y_pred_test_yyy)\n",
        "ax.plot([-6000,8000 ], [-6000, 8000], \"--k\")\n",
        "\n",
        "ax.set_xlabel(\"Actual\")\n",
        "ax.set_ylabel(\"Prediction\")\n",
        "ax.set_xlim(-100, 100)\n",
        "ax.set_ylim(-100, 100)\n",
        "plt.show()"
      ],
      "metadata": {
        "colab": {
          "base_uri": "https://localhost:8080/",
          "height": 610
        },
        "id": "ircCRo_NV6PV",
        "outputId": "72373c60-64c6-43e0-9d25-2adec0413d90"
      },
      "execution_count": 82,
      "outputs": [
        {
          "output_type": "display_data",
          "data": {
            "text/plain": [
              "<Figure size 720x720 with 1 Axes>"
            ],
            "image/png": "[encoded data removed]"
          },
          "metadata": {
            "needs_background": "light"
          }
        }
      ]
    },
    {
      "cell_type": "code",
      "source": [],
      "metadata": {
        "id": "s5cDa4PqYS3t"
      },
      "execution_count": null,
      "outputs": []
    }
  ]
}